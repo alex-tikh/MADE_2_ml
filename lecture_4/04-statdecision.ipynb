{
 "cells": [
  {
   "cell_type": "code",
   "execution_count": null,
   "metadata": {},
   "outputs": [],
   "source": [
    "import matplotlib as mpl\n",
    "import matplotlib.pyplot as plt\n",
    "import seaborn as sns\n",
    "import json\n",
    "import numpy as np\n",
    "import scipy as sp\n",
    "import scipy.stats as st\n",
    "import scipy.integrate as integrate\n",
    "from scipy.stats import multivariate_normal\n",
    "from sklearn import linear_model\n",
    "from sklearn.utils.testing import ignore_warnings\n",
    "from sklearn.exceptions import ConvergenceWarning\n",
    "import statsmodels.api as sm\n",
    "\n",
    "sns.set_style(\"whitegrid\")\n",
    "sns.set_palette(\"colorblind\")\n",
    "palette = sns.color_palette()\n",
    "figsize = (15,8)\n",
    "legend_fontsize = 16\n",
    "\n",
    "from matplotlib import rc\n",
    "rc('font',**{'family':'sans-serif'})\n",
    "rc('text', usetex=True)\n",
    "rc('text.latex',preamble=r'\\usepackage[utf8]{inputenc}')\n",
    "rc('text.latex',preamble=r'\\usepackage[russian]{babel}')\n",
    "rc('figure', **{'dpi': 300})"
   ]
  },
  {
   "cell_type": "markdown",
   "metadata": {},
   "source": [
    "## Полиномиальная регрессия и оверфиттинг"
   ]
  },
  {
   "cell_type": "code",
   "execution_count": null,
   "metadata": {},
   "outputs": [],
   "source": [
    "## Оверфиттинг\n",
    "## Исходная функция\n",
    "orig = lambda x : np.sin(2*x)\n",
    "\n",
    "## X-координаты точек данных\n",
    "xd = np.array([-3, -2, -1, -0.5, 0, 0.5, 1, 1.5, 2.5, 3, 4]) / 2\n",
    "num_points = len(xd)\n",
    "\n",
    "## Данные\n",
    "data = orig(xd) + np.random.normal(0, .25, num_points)\n",
    "\n",
    "## Для рисования\n",
    "xs = np.arange(xd[0]-1.5, xd[-1]+1.5, 0.01)\n",
    "\n",
    "## Обучаем модель с регуляризацией\n",
    "@ignore_warnings(category=ConvergenceWarning)\n",
    "def train_model(xs, ys, alpha=0, use_lasso=False):\n",
    "    if alpha == 0:\n",
    "        return linear_model.LinearRegression(fit_intercept=True).fit( xs, ys )\n",
    "    else:\n",
    "        if use_lasso:\n",
    "            return linear_model.Lasso(alpha=alpha, fit_intercept=True).fit( xs, ys )\n",
    "        else:\n",
    "            return linear_model.Ridge(alpha=alpha, fit_intercept=True).fit( xs, ys )"
   ]
  },
  {
   "cell_type": "code",
   "execution_count": null,
   "metadata": {},
   "outputs": [],
   "source": [
    "## Выделение полиномиальных признаков\n",
    "xs_d = np.vstack([xs ** i for i in range(1, num_points+1)]).transpose()\n",
    "xd_d = np.vstack([xd ** i for i in range(1, num_points+1)]).transpose()\n",
    "\n",
    "## Какие степени многочлена будем обучать и рисовать\n",
    "set_of_powers = [ 3, 10 ]\n",
    "\n",
    "fig = plt.figure(figsize=figsize)\n",
    "ax = fig.add_subplot(111)\n",
    "ax.set_xlim((xs[0], xs[-1]))\n",
    "ax.set_ylim((-2, 2))\n",
    "ax.scatter(xd, data, marker='*', s=120)\n",
    "ax.plot(xs, orig(xs), linewidth=1, label=\"Исходная функция\", color=\"black\")\n",
    "\n",
    "for d in set_of_powers:\n",
    "    if d == 0:\n",
    "        print(np.mean(data))\n",
    "        ax.hlines(np.mean(data), xmin=xs[0], xmax=xs[-1], label=\"$d=0$\", linestyle=\"dashed\")\n",
    "    else:\n",
    "        cur_model = train_model( xd_d[:, :d], data )\n",
    "        print(cur_model.coef_)\n",
    "        ax.plot(xs, cur_model.predict( xs_d[:, :d] ), linewidth=2, label=\"$d=%d$\" % d)\n",
    "\n",
    "ax.legend(loc=\"upper center\", fontsize=legend_fontsize)\n",
    "\n",
    "plt.show()"
   ]
  },
  {
   "cell_type": "code",
   "execution_count": null,
   "metadata": {},
   "outputs": [],
   "source": [
    "models = [ train_model( xd_d[:, :d], data ) for d in range(1, 11) ]\n"
   ]
  },
  {
   "cell_type": "code",
   "execution_count": null,
   "metadata": {},
   "outputs": [],
   "source": [
    "def logL(model, xs, ys):\n",
    "    yfit = model.predict(xs)\n",
    "    return np.sum([ sp.stats.norm.logpdf(ys[i], loc=yfit[i], scale=.25) for i in range(ys.shape[0]) ])\n",
    "\n",
    "logLs = [logL(models[d-1], xd_d[:,:d], data) for d in range(1, 11)]"
   ]
  },
  {
   "cell_type": "code",
   "execution_count": null,
   "metadata": {},
   "outputs": [],
   "source": [
    "def BIC(ll, N, k):\n",
    "    return -2*ll + np.log(N)*k\n",
    "\n",
    "bics = [BIC(logLs[d-1], data.shape[0], d) for d in range(1, 11)]\n",
    "\n",
    "fig = plt.figure(figsize=figsize)\n",
    "ax = fig.add_subplot(111)\n",
    "# ax.set_xlim((xs[0], xs[-1]))\n",
    "# ax.set_ylim((-2, 2))\n",
    "ax.plot(range(1, 11), logLs, label=\"Log likelihood\")\n",
    "ax.plot(range(1, 11), bics, label=\"BIC\")\n",
    "ax.legend(fontsize=legend_fontsize)\n",
    "plt.show()"
   ]
  },
  {
   "cell_type": "markdown",
   "metadata": {},
   "source": [
    "## Статистическая теория принятия решений"
   ]
  },
  {
   "cell_type": "code",
   "execution_count": null,
   "metadata": {},
   "outputs": [],
   "source": [
    "N = 50\n",
    "alpha = 0.00001\n",
    "use_lasso = True\n",
    "\n",
    "fig = plt.figure(figsize=figsize)\n",
    "ax = fig.add_subplot(111)\n",
    "ax.set_xlim((xs[0], xs[-1]))\n",
    "ax.set_ylim((-3, 3))\n",
    "\n",
    "res = []\n",
    "for _ in range(N):\n",
    "    cur_data = orig(xd) + np.random.normal(0, .25, num_points)\n",
    "    cur_model = train_model(xd_d, cur_data, alpha, use_lasso)\n",
    "    res.append(cur_model.predict( xs_d ))\n",
    "    ax.plot(xs, res[-1], linewidth=.1, color=\"0.5\")\n",
    "\n",
    "ax.plot(xs, orig(xs), linewidth=2, label=\"Исходная функция\", color=palette[0])\n",
    "ax.scatter(xd, orig(xd), marker='*', s=150, color=palette[0])\n",
    "\n",
    "ax.plot(xs, np.mean( res, axis=0 ), linewidth=2, label=\"Усреднённые предсказания\", color=\"red\")\n",
    "ax.legend(loc=\"upper center\", fontsize=legend_fontsize)\n",
    "plt.show()\n",
    "\n",
    "cur_model = linear_model.LinearRegression(fit_intercept=True).fit( xd_d[:, :d], data )"
   ]
  },
  {
   "cell_type": "code",
   "execution_count": null,
   "metadata": {},
   "outputs": [],
   "source": [
    "test_set_size = 50\n",
    "test_set_x = np.random.rand(test_set_size) * (2 + 1.5) - 1.5\n",
    "test_set_xs = np.vstack([test_set_x ** i for i in range(1, 12)]).transpose()\n",
    "print(test_set_xs.shape)\n",
    "test_set_y = orig(test_set_xs[:,0]) + np.random.normal(0, .25, test_set_size)\n",
    "\n",
    "fig = plt.figure(figsize=figsize)\n",
    "ax = fig.add_subplot(111)\n",
    "ax.plot(xs, orig(xs), linewidth=2, label=\"Исходная функция\", color=palette[0])\n",
    "ax.scatter(test_set_xs[:,0], test_set_y, marker='*', s=150, color=palette[0])\n",
    "ax.set_xlim((-1.5, 2))\n",
    "\n",
    "def test_set_error(model, d):\n",
    "    return np.mean( (test_set_y - model.predict(test_set_xs[:, :d])) ** 2 )"
   ]
  },
  {
   "cell_type": "code",
   "execution_count": null,
   "metadata": {},
   "outputs": [],
   "source": [
    "N = 5000\n",
    "use_lasso=False\n",
    "alphas = np.logspace(-4, 2, num=20)\n",
    "errors, biases, variances = [], [], []\n",
    "for alpha in alphas:\n",
    "    res, res_preds, res_test = [], [], []\n",
    "    for _ in range(N):\n",
    "        cur_data = orig(xd) + np.random.normal(0, .25, num_points)\n",
    "        cur_model = train_model(xd_d, cur_data, alpha, use_lasso)\n",
    "        res.append(test_set_error(cur_model, xd_d.shape[1]))\n",
    "        res_test.append(cur_model.predict(test_set_xs))\n",
    "        res_preds.append(cur_model.predict( xs_d ))\n",
    "    res_test = np.array(res_test)\n",
    "    avg_preds = np.mean(res_test, axis=0)\n",
    "    errors.append(np.mean(res))\n",
    "    biases.append(np.mean((avg_preds-orig(test_set_x))**2))\n",
    "    variances.append(np.mean((res_test-avg_preds)**2))\n",
    "    print(\"alpha = %.6f\\tmean error = %.6f\\tbias = %.6f\\tvariance = %.6f\" % (alpha, errors[-1], biases[-1], variances[-1]))"
   ]
  },
  {
   "cell_type": "code",
   "execution_count": null,
   "metadata": {},
   "outputs": [],
   "source": [
    "fig = plt.figure(figsize=figsize)\n",
    "ax = fig.add_subplot(111)\n",
    "# plt.yscale('log')\n",
    "plt.xscale('log')\n",
    "ax.plot(alphas, biases, linewidth=2, label=\"Bias\")\n",
    "ax.plot(alphas, variances, linewidth=2, label=\"Variance\")\n",
    "ax.plot(alphas, np.array(biases) + np.array(variances), linewidth=2, label=\"Bias + Variance\")\n",
    "ax.plot(alphas, errors, linewidth=2, label=\"Ошибка на тестовом множестве\", color=\"black\")\n",
    "ax.set_ylim((0, 1))\n",
    "ax.set_xlim((0.001, 100))\n",
    "ax.legend(fontsize=legend_fontsize)\n",
    "# fig.savefig('statdecision1.pdf', bbox_inches='tight')"
   ]
  },
  {
   "cell_type": "markdown",
   "metadata": {},
   "source": [
    "## Эквивалентное ядро в линейной регрессии"
   ]
  },
  {
   "cell_type": "code",
   "execution_count": null,
   "metadata": {},
   "outputs": [],
   "source": [
    "d = 1\n",
    "x_pred = 1\n",
    "\n",
    "new_data = np.copy(data)\n",
    "new_data[7] = 0\n",
    "cur_model = linear_model.LinearRegression(fit_intercept=True).fit( xd_d[:, :d], new_data )\n",
    "\n",
    "fig = plt.figure(figsize=figsize)\n",
    "ax = fig.add_subplot(111)\n",
    "ax.set_xlim((xs[0], xs[-1]))\n",
    "ax.set_ylim((-2, 2))\n",
    "ax.scatter(xd, new_data, marker='*', s=120)\n",
    "ax.plot(xs, orig(xs), linewidth=1, label=\"Исходная функция\", color=\"black\")\n",
    "ax.plot(xs, cur_model.predict( xs_d[:, :d] ), linewidth=2, label=\"$d=%d$\" % d)\n",
    "y_pred = cur_model.predict(np.array([x_pred]).reshape(1,-1))\n",
    "ax.scatter(x_pred, y_pred, marker='*', s=200)\n",
    "\n",
    "\n",
    "print(data)\n",
    "print(new_data)\n",
    "print(y_pred)"
   ]
  },
  {
   "cell_type": "code",
   "execution_count": null,
   "metadata": {},
   "outputs": [],
   "source": [
    "def get_one_prediction(x_pred, cur_y, d=1, data_ind=7, data=data):\n",
    "    new_data = np.copy(data)\n",
    "    new_data[data_ind] = cur_y\n",
    "    cur_model = linear_model.LinearRegression(fit_intercept=True).fit( xd_d[:, :d], new_data )\n",
    "    return cur_model.predict(np.array([x_pred]).reshape(1,-1))[0]\n",
    "\n",
    "fig = plt.figure(figsize=figsize)\n",
    "ax = fig.add_subplot(111)\n",
    "ys = np.arange(-1, 1, 0.1)\n",
    "ax.set_xlim((ys[0], ys[-1]))\n",
    "\n",
    "for x_pred in [-.5, 1, 1.5, 2]:\n",
    "    one_pred = [ get_one_prediction(x_pred, y) for y in ys ]\n",
    "    ax.plot(ys, one_pred, linewidth=1, label=\"Предсказание в точке %.2f\" % x_pred)\n",
    "\n",
    "ax.legend(fontsize=legend_fontsize)"
   ]
  },
  {
   "cell_type": "code",
   "execution_count": null,
   "metadata": {},
   "outputs": [],
   "source": []
  }
 ],
 "metadata": {
  "kernelspec": {
   "display_name": "Python 3",
   "language": "python",
   "name": "python3"
  },
  "language_info": {
   "codemirror_mode": {
    "name": "ipython",
    "version": 3
   },
   "file_extension": ".py",
   "mimetype": "text/x-python",
   "name": "python",
   "nbconvert_exporter": "python",
   "pygments_lexer": "ipython3",
   "version": "3.8.7"
  }
 },
 "nbformat": 4,
 "nbformat_minor": 1
}
