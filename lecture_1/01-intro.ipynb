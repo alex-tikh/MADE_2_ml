{
 "cells": [
  {
   "cell_type": "code",
   "execution_count": null,
   "metadata": {},
   "outputs": [],
   "source": [
    "import matplotlib as mpl\n",
    "import matplotlib.pyplot as plt\n",
    "import seaborn as sns\n",
    "import json\n",
    "import numpy as np\n",
    "import scipy as sp\n",
    "import scipy.stats as st\n",
    "import scipy.integrate as integrate\n",
    "from sklearn import linear_model\n",
    "\n",
    "sns.set_style(\"whitegrid\")\n",
    "sns.set_palette(\"colorblind\")\n",
    "palette = sns.color_palette()\n",
    "figsize = (15,8)\n",
    "legend_fontsize = 16\n",
    "\n",
    "from matplotlib import rc\n",
    "rc('font',**{'family':'sans-serif'})\n",
    "rc('text', usetex=True)\n",
    "rc('text.latex',preamble=r'\\usepackage[utf8]{inputenc}')\n",
    "rc('text.latex',preamble=r'\\usepackage[russian]{babel}')\n",
    "rc('figure', **{'dpi': 300})"
   ]
  },
  {
   "cell_type": "markdown",
   "metadata": {},
   "source": [
    "# Пример с тестом на коронавирус"
   ]
  },
  {
   "cell_type": "code",
   "execution_count": null,
   "metadata": {},
   "outputs": [],
   "source": [
    "## если data = 1, тест положительный\n",
    "def compute_posterior(data, prior_prob=0.01, test_success=0.95):\n",
    "    if data == 1:\n",
    "        return (prior_prob * test_success) / (prior_prob * test_success + (1-prior_prob) * (1-test_success))\n",
    "    elif data == 0:\n",
    "        return (prior_prob * (1-test_success)) / (prior_prob * (1-test_success) + (1-prior_prob) * test_success)\n",
    "    else:\n",
    "        return None\n",
    "\n",
    "print(\"Апостериорная вероятность после положительного теста: %.6f\" % compute_posterior(1) )\n",
    "print(\"Апостериорная вероятность после отрицательного теста: %.6f\" % compute_posterior(0) )\n",
    "\n",
    "vector_posterior = np.vectorize(compute_posterior, excluded=['data', 'test_success'])\n",
    "xs = np.arange(0, 0.31, 0.01)\n",
    "ys_one = vector_posterior(1, prior_prob=xs)\n",
    "ys_zero = vector_posterior(0, prior_prob=xs)\n",
    "\n",
    "fig = plt.figure(figsize=figsize)\n",
    "ax = fig.add_subplot(111)\n",
    "ax.plot(xs, ys_one, linewidth=2, label=r'Вероятность после положительного теста')\n",
    "ax.plot(xs, ys_zero, linewidth=2, label='Вероятность после отрицательного теста')\n",
    "ax.set_xlim((0.0, 0.3))\n",
    "ax.set_xlabel('Априорная вероятность болезни', fontsize=legend_fontsize)\n",
    "ax.legend(fontsize=legend_fontsize)\n",
    "# fig.savefig('intro1.pdf', bbox_inches='tight')\n",
    "plt.show()"
   ]
  },
  {
   "cell_type": "markdown",
   "metadata": {},
   "source": [
    "# Байесовский вывод для испытаний Бернулли"
   ]
  },
  {
   "cell_type": "code",
   "execution_count": null,
   "metadata": {},
   "outputs": [],
   "source": [
    "xs = np.arange(-0.01, 1.01, 0.005)\n",
    "\n",
    "prior_params = (2., 2.)\n",
    "experimental_data = (0, 2)\n",
    "\n",
    "## Априорное распределение\n",
    "pri = st.beta(prior_params[0], prior_params[1]).pdf\n",
    "norm_prior = 1 #integrate.quad(lambda x: pri(x), -np.inf, np.inf)[0]\n",
    "ys_prior = [ pri(x) / norm_prior for x in xs ]\n",
    "\n",
    "## Правдоподобие\n",
    "n_heads, n_tails = experimental_data\n",
    "lk = lambda x : x ** n_heads * (1 - x) ** n_tails\n",
    "ys_like = [ lk(x) for x in xs ]\n",
    "\n",
    "## Апостериорное распределение\n",
    "post = lambda x : lk(x) * pri(x)\n",
    "norm_post = integrate.quad(lambda x: post(x), 0, 1)[0]\n",
    "ys_post = [ post(x) / norm_post for x in xs ]\n",
    "\n",
    "## И нарисуем\n",
    "fig = plt.figure(figsize=figsize)\n",
    "ax = fig.add_subplot(111)\n",
    "ax.plot(xs, ys_prior, linewidth=2, label=\"Prior\")\n",
    "ax.plot(xs, ys_like, linewidth=2, label=\"Likelihood\")\n",
    "ax.plot(xs, ys_post, linewidth=2, label=\"Posterior\")\n",
    "ax.set_xlim((-.0, 1.0))\n",
    "ax.legend(loc=\"upper left\", fontsize=legend_fontsize)\n",
    "plt.show()"
   ]
  },
  {
   "cell_type": "code",
   "execution_count": null,
   "metadata": {},
   "outputs": [],
   "source": []
  }
 ],
 "metadata": {
  "kernelspec": {
   "display_name": "Python 3",
   "language": "python",
   "name": "python3"
  },
  "language_info": {
   "codemirror_mode": {
    "name": "ipython",
    "version": 3
   },
   "file_extension": ".py",
   "mimetype": "text/x-python",
   "name": "python",
   "nbconvert_exporter": "python",
   "pygments_lexer": "ipython3",
   "version": "3.8.7"
  }
 },
 "nbformat": 4,
 "nbformat_minor": 1
}
