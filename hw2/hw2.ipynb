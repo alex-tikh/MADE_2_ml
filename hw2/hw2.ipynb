{
 "cells": [
  {
   "cell_type": "raw",
   "id": "institutional-namibia",
   "metadata": {},
   "source": [
    "%%bash\n",
    "\n",
    "unzip chgk.zip"
   ]
  },
  {
   "cell_type": "code",
   "execution_count": 1,
   "id": "vocal-covering",
   "metadata": {},
   "outputs": [],
   "source": [
    "import pandas as pd\n",
    "import pickle\n",
    "import numpy as np"
   ]
  },
  {
   "cell_type": "code",
   "execution_count": 2,
   "id": "appropriate-estate",
   "metadata": {},
   "outputs": [],
   "source": [
    "import pickle\n",
    "\n",
    "def dump_pickle(file_path, obj):\n",
    "    with open(file_path, \"wb\") as dump_file:\n",
    "        pickle.dump(obj, dump_file)\n",
    "\n",
    "def load_pickle(file_path):\n",
    "    with open(file_path, 'rb') as load_file:\n",
    "        return pickle.load(load_file)"
   ]
  },
  {
   "cell_type": "markdown",
   "id": "athletic-ending",
   "metadata": {},
   "source": [
    "## 1 Анализ данных\n",
    "\n",
    "Раскроем данные так, чтобы они приняли формат player -> ответ на вопрос\n",
    "- отфильтруем турниры до 2019-01-01\n",
    "- разобъем их на трейн тест\n",
    "- отфильтруем турниры с пустыми полями 'mask', 'teamMembers', 'team'\n",
    "- для каждого игрока создадим свою строку в данных\n",
    "- для каждого вопроса создадим свою строку в даннных "
   ]
  },
  {
   "cell_type": "code",
   "execution_count": 3,
   "id": "contemporary-drain",
   "metadata": {},
   "outputs": [
    {
     "data": {
      "text/plain": [
       "(1109, 687, 422)"
      ]
     },
     "execution_count": 3,
     "metadata": {},
     "output_type": "execute_result"
    }
   ],
   "source": [
    "df_tournaments = pd.DataFrame(pd.read_pickle('tournaments.pkl')).transpose()\n",
    "#отфильтруем по дате\n",
    "tournaments_ids_all = set(df_tournaments[df_tournaments.dateStart >= '2019-01-01']['id'])\n",
    "tournaments_ids_test = set(df_tournaments[df_tournaments.dateStart >= '2020-01-01']['id'])\n",
    "tournaments_ids_train = tournaments_ids_all.difference(tournaments_ids_test)\n",
    "len(tournaments_ids_all), len(tournaments_ids_train), len(tournaments_ids_test)"
   ]
  },
  {
   "cell_type": "code",
   "execution_count": 4,
   "id": "offshore-seafood",
   "metadata": {},
   "outputs": [
    {
     "name": "stdout",
     "output_type": "stream",
     "text": [
      "full df:  5528\n",
      "filtered df:  671\n",
      "full df:  5528\n",
      "filtered df:  169\n"
     ]
    }
   ],
   "source": [
    "def filter_df(tournaments_ids):\n",
    "    df_results = pd.read_pickle('results.pkl')\n",
    "    print(\"full df: \", len(df_results))\n",
    "    results_all = {}\n",
    "    for key, value in df_results.items():\n",
    "        # берем турниры из tournaments_ids без пустых значений\n",
    "        if key in tournaments_ids and len(value) > 0:\n",
    "            valid = True\n",
    "            # фильтруем турниры с пустой инфой по команде\n",
    "            for team_data in value:\n",
    "                if 'team' not in team_data or 'mask' not in team_data or 'teamMembers' not in team_data:\n",
    "                    valid = False\n",
    "                    continue\n",
    "                if team_data['mask'] is None or team_data['team'] is None or team_data['teamMembers'] is None:\n",
    "                    valid = False\n",
    "                    continue\n",
    "            if valid:\n",
    "                results_all[key] = value\n",
    "    print(\"filtered df: \", len(results_all))\n",
    "    return results_all\n",
    "\n",
    "df_train = filter_df(tournaments_ids_train)\n",
    "df_test = filter_df(tournaments_ids_test)\n",
    "dump_pickle('test.pkl', df_test)\n",
    "\n",
    "def unpivot_players(df):\n",
    "    df_results_cleaned = []\n",
    "    for key, value in df.items():\n",
    "        # чистим маску и переводим игроков из массива в отдельные строки\n",
    "        for team_data in value:\n",
    "            team = team_data['team']\n",
    "            mask = str(team_data['mask']).replace('X', '0').replace('?', '0')\n",
    "            players = team_data['teamMembers']\n",
    "            for player in players:\n",
    "                df_results_cleaned.append([key, team['id'], player['player']['id'], mask])\n",
    "    df = pd.DataFrame(df_results_cleaned)\n",
    "    df.columns = ['tournament_id', 'team_id', 'player_id', 'mask']\n",
    "    return df\n",
    "\n",
    "df_train = unpivot_players(df_train)\n",
    "\n",
    "def unpivot_questions(df):\n",
    "    df_results_cleaned = []\n",
    "    for _, row in df.iterrows():\n",
    "        tournament_id = row['tournament_id']\n",
    "        team_id = row['team_id']\n",
    "        player_id = row['player_id']\n",
    "        mask = row['mask']\n",
    "        # переводим маску из массива в отдельные строки\n",
    "        for idx in range(len(mask)):\n",
    "            df_results_cleaned.append([tournament_id, team_id, player_id, f\"{tournament_id}_{idx}\", mask[idx]])\n",
    "    df = pd.DataFrame(df_results_cleaned)\n",
    "    df.columns = ['tournament_id', 'team_id', 'player_id', 'question_id', 'target']\n",
    "    return df\n",
    "\n",
    "df_train = unpivot_questions(df_train)\n",
    "compression_opts = dict(method='zip', archive_name='train.csv')\n",
    "df_train.to_csv('train.zip', index=False, compression=compression_opts)"
   ]
  },
  {
   "cell_type": "markdown",
   "id": "expanded-habitat",
   "metadata": {},
   "source": [
    "## 2 Baseline model\n",
    "\n",
    "Построим модель на one-hot векторах из игроков и вопросов\n",
    "\n",
    "Т.к. дальше в EM алгоритме нам нужно будет обучать модель на вероятностях, то построим модель по схеме предложенной тут:\n",
    "https://stackoverflow.com/questions/42800769/scikit-learn-classification-on-soft-labels/60969923#60969923\n"
   ]
  },
  {
   "cell_type": "code",
   "execution_count": 5,
   "id": "designing-score",
   "metadata": {},
   "outputs": [],
   "source": [
    "df_train = pd.read_csv('train.zip', \n",
    "                       dtype={'tournament_id':np.int16, 'team_id':np.int32,\n",
    "                              'player_id':np.int32, 'question_id':object, 'target':np.int8})"
   ]
  },
  {
   "cell_type": "code",
   "execution_count": 6,
   "id": "dying-physics",
   "metadata": {},
   "outputs": [
    {
     "data": {
      "text/html": [
       "<div>\n",
       "<style scoped>\n",
       "    .dataframe tbody tr th:only-of-type {\n",
       "        vertical-align: middle;\n",
       "    }\n",
       "\n",
       "    .dataframe tbody tr th {\n",
       "        vertical-align: top;\n",
       "    }\n",
       "\n",
       "    .dataframe thead th {\n",
       "        text-align: right;\n",
       "    }\n",
       "</style>\n",
       "<table border=\"1\" class=\"dataframe\">\n",
       "  <thead>\n",
       "    <tr style=\"text-align: right;\">\n",
       "      <th></th>\n",
       "      <th>tournament_id</th>\n",
       "      <th>team_id</th>\n",
       "      <th>player_id</th>\n",
       "      <th>question_id</th>\n",
       "      <th>target</th>\n",
       "    </tr>\n",
       "  </thead>\n",
       "  <tbody>\n",
       "    <tr>\n",
       "      <th>0</th>\n",
       "      <td>4772</td>\n",
       "      <td>45556</td>\n",
       "      <td>6212</td>\n",
       "      <td>4772_0</td>\n",
       "      <td>1</td>\n",
       "    </tr>\n",
       "    <tr>\n",
       "      <th>1</th>\n",
       "      <td>4772</td>\n",
       "      <td>45556</td>\n",
       "      <td>6212</td>\n",
       "      <td>4772_1</td>\n",
       "      <td>1</td>\n",
       "    </tr>\n",
       "    <tr>\n",
       "      <th>2</th>\n",
       "      <td>4772</td>\n",
       "      <td>45556</td>\n",
       "      <td>6212</td>\n",
       "      <td>4772_2</td>\n",
       "      <td>1</td>\n",
       "    </tr>\n",
       "    <tr>\n",
       "      <th>3</th>\n",
       "      <td>4772</td>\n",
       "      <td>45556</td>\n",
       "      <td>6212</td>\n",
       "      <td>4772_3</td>\n",
       "      <td>1</td>\n",
       "    </tr>\n",
       "    <tr>\n",
       "      <th>4</th>\n",
       "      <td>4772</td>\n",
       "      <td>45556</td>\n",
       "      <td>6212</td>\n",
       "      <td>4772_4</td>\n",
       "      <td>1</td>\n",
       "    </tr>\n",
       "  </tbody>\n",
       "</table>\n",
       "</div>"
      ],
      "text/plain": [
       "   tournament_id  team_id  player_id question_id  target\n",
       "0           4772    45556       6212      4772_0       1\n",
       "1           4772    45556       6212      4772_1       1\n",
       "2           4772    45556       6212      4772_2       1\n",
       "3           4772    45556       6212      4772_3       1\n",
       "4           4772    45556       6212      4772_4       1"
      ]
     },
     "execution_count": 6,
     "metadata": {},
     "output_type": "execute_result"
    }
   ],
   "source": [
    "df_train.head()"
   ]
  },
  {
   "cell_type": "code",
   "execution_count": 7,
   "id": "neither-border",
   "metadata": {},
   "outputs": [],
   "source": [
    "from sklearn.preprocessing import OneHotEncoder, Normalizer\n",
    "from sklearn.compose import ColumnTransformer\n",
    "from sklearn.pipeline import Pipeline\n",
    "from sklearn.linear_model import LogisticRegression, LinearRegression"
   ]
  },
  {
   "cell_type": "code",
   "execution_count": 8,
   "id": "transsexual-label",
   "metadata": {},
   "outputs": [],
   "source": [
    "def sigmoid(x):\n",
    "    ex = np.exp(x)\n",
    "    return ex / (1 + ex)"
   ]
  },
  {
   "cell_type": "code",
   "execution_count": 9,
   "id": "personal-yorkshire",
   "metadata": {},
   "outputs": [],
   "source": [
    "feature_generation = ColumnTransformer(\n",
    "    transformers=[\n",
    "        ('OneHot', OneHotEncoder(), ['player_id', 'question_id'])\n",
    "    ],\n",
    "    remainder='drop',\n",
    "    sparse_threshold=1\n",
    ")\n",
    "\n",
    "soft_pipe = Pipeline(\n",
    "    steps=[\n",
    "        ('feature_generation', feature_generation),\n",
    "        #('scaler', StandardScaler()),\n",
    "        #('classifier', LogisticRegression(solver='liblinear', max_iter=100))\n",
    "        ('classifier', LinearRegression())\n",
    "    ]\n",
    ")"
   ]
  },
  {
   "cell_type": "code",
   "execution_count": 10,
   "id": "confident-guest",
   "metadata": {},
   "outputs": [
    {
     "data": {
      "text/plain": [
       "(20968351, 5)"
      ]
     },
     "execution_count": 10,
     "metadata": {},
     "output_type": "execute_result"
    }
   ],
   "source": [
    "df_train.shape"
   ]
  },
  {
   "cell_type": "raw",
   "id": "complex-serve",
   "metadata": {},
   "source": [
    "%%time\n",
    "pipe.fit(df_train, df_train['target'])"
   ]
  },
  {
   "cell_type": "code",
   "execution_count": 11,
   "id": "atmospheric-correction",
   "metadata": {},
   "outputs": [
    {
     "name": "stdout",
     "output_type": "stream",
     "text": [
      "CPU times: user 11min 14s, sys: 11min 6s, total: 22min 20s\n",
      "Wall time: 4min 24s\n"
     ]
    },
    {
     "data": {
      "text/plain": [
       "Pipeline(steps=[('feature_generation',\n",
       "                 ColumnTransformer(sparse_threshold=1,\n",
       "                                   transformers=[('OneHot', OneHotEncoder(),\n",
       "                                                  ['player_id',\n",
       "                                                   'question_id'])])),\n",
       "                ('classifier', LinearRegression())])"
      ]
     },
     "execution_count": 11,
     "metadata": {},
     "output_type": "execute_result"
    }
   ],
   "source": [
    "%%time\n",
    "# logistic regression on soft labels\n",
    "# https://stackoverflow.com/questions/42800769/scikit-learn-classification-on-soft-labels/60969923#60969923\n",
    "\n",
    "y = np.clip(df_train['target'], 1e-8, 1 - 1e-8)   # numerical stability\n",
    "inv_sig_y = np.log(y / (1 - y))  # transform to log-odds-ratio space\n",
    "\n",
    "soft_pipe.fit(df_train, inv_sig_y)"
   ]
  },
  {
   "cell_type": "markdown",
   "id": "square-acrylic",
   "metadata": {},
   "source": [
    "## 3 Качество рейтинг-системы"
   ]
  },
  {
   "cell_type": "code",
   "execution_count": 12,
   "id": "naval-syria",
   "metadata": {},
   "outputs": [],
   "source": [
    "import dill\n",
    "\n",
    "def dump_dill(file_path, obj):\n",
    "    with open(file_path, \"wb\") as dump_file:\n",
    "        dill.dump(obj, dump_file)\n",
    "        \n",
    "def load_dill(file_path):\n",
    "    with open(file_path, \"rb\") as dump_file:\n",
    "        return dill.load(dump_file)\n",
    "    \n",
    "dump_dill('logreg_model.dll', soft_pipe)"
   ]
  },
  {
   "cell_type": "code",
   "execution_count": 13,
   "id": "egyptian-border",
   "metadata": {},
   "outputs": [],
   "source": [
    "soft_pipe = load_dill('logreg_model.dll')"
   ]
  },
  {
   "cell_type": "code",
   "execution_count": 14,
   "id": "timely-japan",
   "metadata": {},
   "outputs": [],
   "source": [
    "df_test = load_pickle('test.pkl')"
   ]
  },
  {
   "cell_type": "code",
   "execution_count": 15,
   "id": "compliant-slope",
   "metadata": {},
   "outputs": [],
   "source": [
    "# добудем веса из модели для каждого игрока\n",
    "player_to_weight = {int(name.split('_')[-1]): rank for name, rank in zip(\n",
    "    soft_pipe['feature_generation'].get_feature_names(),\n",
    "    soft_pipe['classifier'].coef_) if name.split('_')[2] == 'x0'}"
   ]
  },
  {
   "cell_type": "markdown",
   "id": "underlying-absorption",
   "metadata": {},
   "source": [
    "Посмотрим насколько совпадают топ 100 и наш рейтинг\n",
    "\n",
    "Ссылка на официальный рейтинг: https://rating.chgk.info/players.php"
   ]
  },
  {
   "cell_type": "code",
   "execution_count": 16,
   "id": "federal-disposition",
   "metadata": {
    "scrolled": true
   },
   "outputs": [
    {
     "name": "stdout",
     "output_type": "stream",
     "text": [
      "Получается, что в наш топ 100 и в официальный топ 100 входит 47 человек\n",
      "Конечно, такая простая проверка не учитывает порядок ранжирования\n"
     ]
    }
   ],
   "source": [
    "official_top_100_ids = pd.read_csv('player_off_top.csv')[:100]\n",
    "official_top_100_ids = set(official_top_100_ids[' ИД'])\n",
    "\n",
    "player_to_weight_sorted = sorted(player_to_weight.items(), key=lambda kv: kv[1], reverse=True)\n",
    "predicted_top_100_ids = set(k for k, v in player_to_weight_sorted[:100])\n",
    "\n",
    "intersec = len(official_top_100_ids.intersection(predicted_top_100_ids))\n",
    "print(f\"Получается, что в наш топ 100 и в официальный топ 100 входит {intersec} человек\")\n",
    "print('Конечно, такая простая проверка не учитывает порядок ранжирования')"
   ]
  },
  {
   "cell_type": "code",
   "execution_count": 17,
   "id": "eleven-auckland",
   "metadata": {},
   "outputs": [],
   "source": [
    "from scipy import stats"
   ]
  },
  {
   "cell_type": "markdown",
   "id": "broadband-letter",
   "metadata": {},
   "source": [
    "Будем считать рейтинг команды как средний рейтинг ее игроков.\n",
    "\n",
    "Если игрока нет в тестовых данных, то ставим ему в соответствие средний вес по всем игрокам в трейне"
   ]
  },
  {
   "cell_type": "code",
   "execution_count": 18,
   "id": "surprising-clerk",
   "metadata": {},
   "outputs": [],
   "source": [
    "def get_real_rank(tournament):\n",
    "    return [team['position'] for team in tournament]\n",
    "\n",
    "def get_predicted_rank(tournament):\n",
    "    avg_weight = np.mean(list(player_to_weight.values()))\n",
    "    team_rating = []\n",
    "    for idx, team in enumerate(tournament):\n",
    "        weight = 0\n",
    "        cnt = 0\n",
    "        for player_info in team['teamMembers']:\n",
    "            p_id = player_info['player']['id']\n",
    "            try:\n",
    "                weight += player_to_weight[p_id]\n",
    "            except:\n",
    "                weight += avg_weight\n",
    "            cnt += 1\n",
    "        try:\n",
    "            mean = weight/cnt\n",
    "        except:\n",
    "            mean = 0\n",
    "        team_rating.append((idx + 1, mean))\n",
    "    team_rating = sorted(team_rating, key=lambda kv: kv[1], reverse=True)\n",
    "    return [pos for pos, weight in team_rating]"
   ]
  },
  {
   "cell_type": "code",
   "execution_count": 19,
   "id": "illegal-booth",
   "metadata": {},
   "outputs": [
    {
     "name": "stdout",
     "output_type": "stream",
     "text": [
      "Average Spearman correlation for df_test: 0.776\n",
      "Average Kendall  correlation for df_test: 0.622\n"
     ]
    }
   ],
   "source": [
    "def get_score(df, corr):\n",
    "    x = [corr(get_real_rank(tour), get_predicted_rank(tour)).correlation for tour in df.values()]\n",
    "    return np.nanmean(x)\n",
    "\n",
    "for corr in [('Spearman', stats.spearmanr), ('Kendall ', stats.kendalltau)]:\n",
    "    print(f\"Average {corr[0]} correlation for df_test: {get_score(df_test, corr[1]):.3f}\")"
   ]
  },
  {
   "cell_type": "markdown",
   "id": "innocent-python",
   "metadata": {},
   "source": [
    "## 4 EM схема"
   ]
  },
  {
   "cell_type": "markdown",
   "id": "assumed-certification",
   "metadata": {},
   "source": [
    "Скрытыми переменными $z_{i,q}$ являются ответил ли $i$-ый игрок в команде на вопрос $q$. Пусть $y_{tq}$ - ответ команды $T$ на вопрос $q$. Если команда не ответила на вопрос, то ни один игрок команды не ответил на вопрос, если ответила - то значит хотя бы один игрок ответил.\n",
    "\n",
    "Величины $z_{i,q}$ будем моделировать логистическими регрессиями от *player_id* и *question_id*.\n",
    "\n",
    "$$p\\left(z_{i,q} \\vert \\overrightarrow{x_i}\\right) \\sim \\sigma\\left(\\overrightarrow{x_i}\\right)$$\n",
    "\n",
    "Тогда *Expectation* шаг будет рассчитываться по формуле\n",
    "\n",
    "$$ \n",
    "\\mathbb{E} \\left[ z^{(m+1)}_{i,q} \\right] = \n",
    "\\begin{cases}\n",
    "0, \\text{если } y_{tq} = 0,\\\\\n",
    "p\\left( z^{(m)}_{i,q} = 1 \\vert \\exists j \\in t : z^{(m)}_{j,q} = 1\\right), \\text{ если } y_{tq} = 1. \n",
    "\\end{cases} \n",
    "$$\n",
    "\n",
    "Где\n",
    "$$\n",
    "p\\left( z^{(m)}_{i,q} = 1 | \\exists j \\in t : z^{(m)}_{j,q} = 1\\right) = \\frac{\\sigma (\\overrightarrow{x^{(m)}_i})}{1-\\prod_{k \\in T} (1 - \\sigma(\\overrightarrow{x^{(m)}_k}))}\n",
    "$$\n",
    "\n",
    "На *Maximization* шаге будем бучать модель\n",
    "\n",
    "$$\\mathbb{E} \\left[ z^{(m+1)}_{i,q} \\right] \\sim \\sigma\\left(\\overrightarrow{x^{(m+1)}_i}\\right)$$\n",
    "\n",
    "В качестве начальных параметров возьмем параметры модели из бейзлайна"
   ]
  },
  {
   "cell_type": "code",
   "execution_count": 20,
   "id": "creative-waste",
   "metadata": {},
   "outputs": [],
   "source": [
    "from functools import reduce\n",
    "\n",
    "def pred_by_team(arr):\n",
    "    arr = 1-arr\n",
    "    return 1 - np.prod(arr)"
   ]
  },
  {
   "cell_type": "code",
   "execution_count": 21,
   "id": "strange-handling",
   "metadata": {
    "scrolled": false
   },
   "outputs": [
    {
     "name": "stdout",
     "output_type": "stream",
     "text": [
      "Baseline:\n",
      "Average Spearman correlation for df_test: 0.776\n",
      "Average Kendall  correlation for df_test: 0.622\n",
      "Iteration number: 0\n"
     ]
    },
    {
     "name": "stderr",
     "output_type": "stream",
     "text": [
      "/home/alexander/miniconda3/envs/2_ml/lib/python3.7/site-packages/sklearn/compose/_column_transformer.py:440: FutureWarning: Given feature/column names or counts do not match the ones for the data given during fit. This will fail from v0.24.\n",
      "  FutureWarning)\n"
     ]
    },
    {
     "name": "stdout",
     "output_type": "stream",
     "text": [
      "Average Spearman correlation for df_test: 0.771\n",
      "Average Kendall  correlation for df_test: 0.617\n",
      "Iteration number: 1\n",
      "Average Spearman correlation for df_test: 0.771\n",
      "Average Kendall  correlation for df_test: 0.617\n",
      "Iteration number: 2\n",
      "Average Spearman correlation for df_test: 0.776\n",
      "Average Kendall  correlation for df_test: 0.621\n",
      "Iteration number: 3\n",
      "Average Spearman correlation for df_test: 0.777\n",
      "Average Kendall  correlation for df_test: 0.621\n",
      "Iteration number: 4\n",
      "Average Spearman correlation for df_test: 0.777\n",
      "Average Kendall  correlation for df_test: 0.621\n",
      "Iteration number: 5\n",
      "Average Spearman correlation for df_test: 0.777\n",
      "Average Kendall  correlation for df_test: 0.620\n",
      "Iteration number: 6\n",
      "Average Spearman correlation for df_test: 0.777\n",
      "Average Kendall  correlation for df_test: 0.622\n",
      "Iteration number: 7\n",
      "Average Spearman correlation for df_test: 0.778\n",
      "Average Kendall  correlation for df_test: 0.623\n",
      "Iteration number: 8\n",
      "Average Spearman correlation for df_test: 0.776\n",
      "Average Kendall  correlation for df_test: 0.620\n",
      "Iteration number: 9\n",
      "Average Spearman correlation for df_test: 0.778\n",
      "Average Kendall  correlation for df_test: 0.622\n"
     ]
    }
   ],
   "source": [
    "df_train['new_target'] = df_train['target']\n",
    "number_iter = 10\n",
    "\n",
    "print('Baseline:')\n",
    "for corr in [('Spearman', stats.spearmanr), ('Kendall ', stats.kendalltau)]:\n",
    "    print(f\"Average {corr[0]} correlation for df_test: {get_score(df_test, corr[1]):.3f}\")\n",
    "\n",
    "for i in range(number_iter):\n",
    "    print(f\"Iteration number: {i}\")\n",
    "    #if i == 0:\n",
    "    #    df_train['pred'] = pipe.predict_proba(df_train)[:, 1]\n",
    "    #if i > 0:\n",
    "    \n",
    "    # EXPECTATION STEP\n",
    "    df_train['pred'] = sigmoid(soft_pipe.predict(df_train))\n",
    "        \n",
    "    pred_by_group = (df_train[df_train.target == 1]\n",
    "             .groupby(['team_id', 'question_id'], as_index=False)['pred']\n",
    "             .apply(pred_by_team)\n",
    "             .rename(columns={'pred':'pred_by_team'}))\n",
    "    df_train = pd.merge(df_train, pred_by_group, how='left', on=['team_id', 'question_id'])\n",
    "    df_train['new_target'] = df_train['pred']/df_train['pred_by_team']\n",
    "    df_train.loc[df_train['target'] == 0, 'new_target'] = 0\n",
    "\n",
    "    df_train = df_train.drop(columns=['pred', 'pred_by_team'])\n",
    "\n",
    "    # MAXIMIZATION STEP\n",
    "    y = np.clip(df_train['new_target'], 1e-8, 1 - 1e-8)   # numerical stability\n",
    "    inv_sig_y = np.log(y / (1 - y))  # transform to log-odds-ratio space\n",
    "    \n",
    "    soft_pipe.fit(df_train, inv_sig_y)\n",
    "    \n",
    "    # VALUATION STEP\n",
    "    # добудем веса из модели для каждого игрока\n",
    "    player_to_weight = {int(name.split('_')[-1]): rank for name, rank in zip(\n",
    "        soft_pipe['feature_generation'].get_feature_names(),\n",
    "        soft_pipe['classifier'].coef_) if name.split('_')[2] == 'x0'}\n",
    "    \n",
    "    for corr in [('Spearman', stats.spearmanr), ('Kendall ', stats.kendalltau)]:\n",
    "        print(f\"Average {corr[0]} correlation for df_test: {get_score(df_test, corr[1]):.3f}\")"
   ]
  },
  {
   "cell_type": "markdown",
   "id": "heated-father",
   "metadata": {},
   "source": [
    "К сожалению, EM алгоритм не дал серьезного прироста, возможно стоило реализовывать честную лог-регрессию на pyTorch"
   ]
  },
  {
   "cell_type": "markdown",
   "id": "furnished-avenue",
   "metadata": {},
   "source": [
    "## 5 Рейтинг лист турниров по сложности вопросов"
   ]
  },
  {
   "cell_type": "markdown",
   "id": "fuzzy-beatles",
   "metadata": {},
   "source": [
    "По аналогии с игроками, достанем из модели сложность каждого вопроса (коэффициент модели для этого вопроса).\n",
    "\n",
    "Сложность вопроса должна уменьшать вероятность правильного ответа, поэтому чем меньше этот коэффициент - тем сложнее вопрос.\n",
    "\n",
    "Для каждого турнира возьмем среднее от сложности его вопросов. Такую величину будем считать сложностью турнира"
   ]
  },
  {
   "cell_type": "code",
   "execution_count": 22,
   "id": "competent-remainder",
   "metadata": {},
   "outputs": [],
   "source": [
    "question_to_weight = {name.split('_')[-2] + '_' + name.split('_')[-1]: rank for name, rank in zip(\n",
    "    soft_pipe['feature_generation'].get_feature_names(),\n",
    "    soft_pipe['classifier'].coef_) if name.split('_')[2] == 'x1'}"
   ]
  },
  {
   "cell_type": "code",
   "execution_count": 23,
   "id": "utility-multiple",
   "metadata": {},
   "outputs": [],
   "source": [
    "def mean_question_weight(arr):\n",
    "    '''\n",
    "    map questions to weights and take mean\n",
    "    '''\n",
    "    return np.mean(list(map(question_to_weight.get, arr)))\n",
    "\n",
    "tournament_to_weight = df_train.groupby('tournament_id', as_index=False)['question_id'] \\\n",
    "    .apply(mean_question_weight) \\\n",
    "    .sort_values(by=['question_id']) \\\n",
    "    .rename(columns={\"question_id\": \"questions_mean_difficulty\"})"
   ]
  },
  {
   "cell_type": "markdown",
   "id": "prostate-economy",
   "metadata": {},
   "source": [
    "В топ 15 сложных турниров входят Чемпионаты и Первые лиги, что кажется разумным"
   ]
  },
  {
   "cell_type": "code",
   "execution_count": 25,
   "id": "asian-literacy",
   "metadata": {},
   "outputs": [
    {
     "name": "stdout",
     "output_type": "stream",
     "text": [
      "Топ 15 самых сложных турниров\n"
     ]
    },
    {
     "data": {
      "text/html": [
       "<div>\n",
       "<style scoped>\n",
       "    .dataframe tbody tr th:only-of-type {\n",
       "        vertical-align: middle;\n",
       "    }\n",
       "\n",
       "    .dataframe tbody tr th {\n",
       "        vertical-align: top;\n",
       "    }\n",
       "\n",
       "    .dataframe thead th {\n",
       "        text-align: right;\n",
       "    }\n",
       "</style>\n",
       "<table border=\"1\" class=\"dataframe\">\n",
       "  <thead>\n",
       "    <tr style=\"text-align: right;\">\n",
       "      <th></th>\n",
       "      <th>tournament_id</th>\n",
       "      <th>questions_mean_difficulty</th>\n",
       "      <th>name</th>\n",
       "    </tr>\n",
       "  </thead>\n",
       "  <tbody>\n",
       "    <tr>\n",
       "      <th>0</th>\n",
       "      <td>6149</td>\n",
       "      <td>-9.660520</td>\n",
       "      <td>Чемпионат Санкт-Петербурга. Первая лига</td>\n",
       "    </tr>\n",
       "    <tr>\n",
       "      <th>1</th>\n",
       "      <td>5928</td>\n",
       "      <td>-7.055213</td>\n",
       "      <td>Угрюмый Ёрш</td>\n",
       "    </tr>\n",
       "    <tr>\n",
       "      <th>2</th>\n",
       "      <td>5684</td>\n",
       "      <td>-6.259954</td>\n",
       "      <td>Синхрон высшей лиги Москвы</td>\n",
       "    </tr>\n",
       "    <tr>\n",
       "      <th>3</th>\n",
       "      <td>6101</td>\n",
       "      <td>-5.997683</td>\n",
       "      <td>Воображаемый музей</td>\n",
       "    </tr>\n",
       "    <tr>\n",
       "      <th>4</th>\n",
       "      <td>5159</td>\n",
       "      <td>-5.960070</td>\n",
       "      <td>Первенство правого полушария</td>\n",
       "    </tr>\n",
       "    <tr>\n",
       "      <th>5</th>\n",
       "      <td>5942</td>\n",
       "      <td>-5.665289</td>\n",
       "      <td>Чемпионат Мира. Этап 2. Группа В</td>\n",
       "    </tr>\n",
       "    <tr>\n",
       "      <th>6</th>\n",
       "      <td>5693</td>\n",
       "      <td>-5.602871</td>\n",
       "      <td>Знание – Сила VI</td>\n",
       "    </tr>\n",
       "    <tr>\n",
       "      <th>7</th>\n",
       "      <td>5465</td>\n",
       "      <td>-5.579934</td>\n",
       "      <td>Чемпионат России</td>\n",
       "    </tr>\n",
       "    <tr>\n",
       "      <th>8</th>\n",
       "      <td>5083</td>\n",
       "      <td>-5.482918</td>\n",
       "      <td>Ускользающая сова</td>\n",
       "    </tr>\n",
       "    <tr>\n",
       "      <th>9</th>\n",
       "      <td>5587</td>\n",
       "      <td>-5.452834</td>\n",
       "      <td>Записки охотника</td>\n",
       "    </tr>\n",
       "    <tr>\n",
       "      <th>10</th>\n",
       "      <td>5930</td>\n",
       "      <td>-5.387209</td>\n",
       "      <td>Зеркало мемориала памяти Михаила Басса</td>\n",
       "    </tr>\n",
       "    <tr>\n",
       "      <th>11</th>\n",
       "      <td>5946</td>\n",
       "      <td>-5.351413</td>\n",
       "      <td>Чемпионат Мира. Этап 3. Группа В</td>\n",
       "    </tr>\n",
       "    <tr>\n",
       "      <th>12</th>\n",
       "      <td>5515</td>\n",
       "      <td>-5.306909</td>\n",
       "      <td>Чемпионат Минска. Лига А. Тур четвёртый</td>\n",
       "    </tr>\n",
       "    <tr>\n",
       "      <th>13</th>\n",
       "      <td>5943</td>\n",
       "      <td>-5.277892</td>\n",
       "      <td>Чемпионат Мира. Этап 2 Группа С</td>\n",
       "    </tr>\n",
       "    <tr>\n",
       "      <th>14</th>\n",
       "      <td>5941</td>\n",
       "      <td>-5.264979</td>\n",
       "      <td>Чемпионат Мира. Этап 2. Группа А</td>\n",
       "    </tr>\n",
       "  </tbody>\n",
       "</table>\n",
       "</div>"
      ],
      "text/plain": [
       "    tournament_id  questions_mean_difficulty  \\\n",
       "0            6149                  -9.660520   \n",
       "1            5928                  -7.055213   \n",
       "2            5684                  -6.259954   \n",
       "3            6101                  -5.997683   \n",
       "4            5159                  -5.960070   \n",
       "5            5942                  -5.665289   \n",
       "6            5693                  -5.602871   \n",
       "7            5465                  -5.579934   \n",
       "8            5083                  -5.482918   \n",
       "9            5587                  -5.452834   \n",
       "10           5930                  -5.387209   \n",
       "11           5946                  -5.351413   \n",
       "12           5515                  -5.306909   \n",
       "13           5943                  -5.277892   \n",
       "14           5941                  -5.264979   \n",
       "\n",
       "                                       name  \n",
       "0   Чемпионат Санкт-Петербурга. Первая лига  \n",
       "1                               Угрюмый Ёрш  \n",
       "2                Синхрон высшей лиги Москвы  \n",
       "3                        Воображаемый музей  \n",
       "4              Первенство правого полушария  \n",
       "5          Чемпионат Мира. Этап 2. Группа В  \n",
       "6                          Знание – Сила VI  \n",
       "7                          Чемпионат России  \n",
       "8                         Ускользающая сова  \n",
       "9                          Записки охотника  \n",
       "10   Зеркало мемориала памяти Михаила Басса  \n",
       "11         Чемпионат Мира. Этап 3. Группа В  \n",
       "12  Чемпионат Минска. Лига А. Тур четвёртый  \n",
       "13          Чемпионат Мира. Этап 2 Группа С  \n",
       "14         Чемпионат Мира. Этап 2. Группа А  "
      ]
     },
     "execution_count": 25,
     "metadata": {},
     "output_type": "execute_result"
    }
   ],
   "source": [
    "top_n = 15\n",
    "print(f\"Топ {top_n} самых сложных турниров\")\n",
    "tournament_to_weight.head(top_n).merge(\n",
    "    df_tournaments[[\"id\", \"name\"]].set_index(\"id\"),\n",
    "    left_on=\"tournament_id\", right_on=\"id\",\n",
    ")"
   ]
  },
  {
   "cell_type": "markdown",
   "id": "bottom-economics",
   "metadata": {},
   "source": [
    "В топ 15 простых турниров входят школьные и студенческие игры, а также игры lite"
   ]
  },
  {
   "cell_type": "code",
   "execution_count": 26,
   "id": "cross-grammar",
   "metadata": {},
   "outputs": [
    {
     "name": "stdout",
     "output_type": "stream",
     "text": [
      "Топ 15 самых простых турниров\n"
     ]
    },
    {
     "data": {
      "text/html": [
       "<div>\n",
       "<style scoped>\n",
       "    .dataframe tbody tr th:only-of-type {\n",
       "        vertical-align: middle;\n",
       "    }\n",
       "\n",
       "    .dataframe tbody tr th {\n",
       "        vertical-align: top;\n",
       "    }\n",
       "\n",
       "    .dataframe thead th {\n",
       "        text-align: right;\n",
       "    }\n",
       "</style>\n",
       "<table border=\"1\" class=\"dataframe\">\n",
       "  <thead>\n",
       "    <tr style=\"text-align: right;\">\n",
       "      <th></th>\n",
       "      <th>tournament_id</th>\n",
       "      <th>questions_mean_difficulty</th>\n",
       "      <th>name</th>\n",
       "    </tr>\n",
       "  </thead>\n",
       "  <tbody>\n",
       "    <tr>\n",
       "      <th>0</th>\n",
       "      <td>5009</td>\n",
       "      <td>6.470768</td>\n",
       "      <td>(а)Синхрон-lite. Лига старта. Эпизод III</td>\n",
       "    </tr>\n",
       "    <tr>\n",
       "      <th>1</th>\n",
       "      <td>5601</td>\n",
       "      <td>6.501741</td>\n",
       "      <td>Межфакультетский кубок МГУ. Отбор №4</td>\n",
       "    </tr>\n",
       "    <tr>\n",
       "      <th>2</th>\n",
       "      <td>6254</td>\n",
       "      <td>6.572293</td>\n",
       "      <td>Школьная лига</td>\n",
       "    </tr>\n",
       "    <tr>\n",
       "      <th>3</th>\n",
       "      <td>5698</td>\n",
       "      <td>6.592132</td>\n",
       "      <td>(а)Синхрон-lite. Лига старта. Эпизод VII</td>\n",
       "    </tr>\n",
       "    <tr>\n",
       "      <th>4</th>\n",
       "      <td>5702</td>\n",
       "      <td>6.610661</td>\n",
       "      <td>(а)Синхрон-lite. Лига старта. Эпизод IX</td>\n",
       "    </tr>\n",
       "    <tr>\n",
       "      <th>5</th>\n",
       "      <td>5955</td>\n",
       "      <td>6.775553</td>\n",
       "      <td>Школьная лига. III тур.</td>\n",
       "    </tr>\n",
       "    <tr>\n",
       "      <th>6</th>\n",
       "      <td>5936</td>\n",
       "      <td>6.830198</td>\n",
       "      <td>Школьная лига. I тур.</td>\n",
       "    </tr>\n",
       "    <tr>\n",
       "      <th>7</th>\n",
       "      <td>5012</td>\n",
       "      <td>6.887684</td>\n",
       "      <td>Школьный Синхрон-lite. Выпуск 2.5</td>\n",
       "    </tr>\n",
       "    <tr>\n",
       "      <th>8</th>\n",
       "      <td>5013</td>\n",
       "      <td>7.351077</td>\n",
       "      <td>(а)Синхрон-lite. Лига старта. Эпизод V</td>\n",
       "    </tr>\n",
       "    <tr>\n",
       "      <th>9</th>\n",
       "      <td>6003</td>\n",
       "      <td>7.484514</td>\n",
       "      <td>Второй тематический турнир имени Джоуи Триббиани</td>\n",
       "    </tr>\n",
       "    <tr>\n",
       "      <th>10</th>\n",
       "      <td>5457</td>\n",
       "      <td>7.817119</td>\n",
       "      <td>Студенческий чемпионат Калининградской области</td>\n",
       "    </tr>\n",
       "    <tr>\n",
       "      <th>11</th>\n",
       "      <td>5963</td>\n",
       "      <td>9.722144</td>\n",
       "      <td>Асинхрон по South Park</td>\n",
       "    </tr>\n",
       "    <tr>\n",
       "      <th>12</th>\n",
       "      <td>5438</td>\n",
       "      <td>10.132263</td>\n",
       "      <td>Синхрон Лиги Разума</td>\n",
       "    </tr>\n",
       "    <tr>\n",
       "      <th>13</th>\n",
       "      <td>6102</td>\n",
       "      <td>10.612816</td>\n",
       "      <td>One ring - async</td>\n",
       "    </tr>\n",
       "    <tr>\n",
       "      <th>14</th>\n",
       "      <td>5827</td>\n",
       "      <td>13.025180</td>\n",
       "      <td>Шестой киевский марафон. Асинхрон</td>\n",
       "    </tr>\n",
       "  </tbody>\n",
       "</table>\n",
       "</div>"
      ],
      "text/plain": [
       "    tournament_id  questions_mean_difficulty  \\\n",
       "0            5009                   6.470768   \n",
       "1            5601                   6.501741   \n",
       "2            6254                   6.572293   \n",
       "3            5698                   6.592132   \n",
       "4            5702                   6.610661   \n",
       "5            5955                   6.775553   \n",
       "6            5936                   6.830198   \n",
       "7            5012                   6.887684   \n",
       "8            5013                   7.351077   \n",
       "9            6003                   7.484514   \n",
       "10           5457                   7.817119   \n",
       "11           5963                   9.722144   \n",
       "12           5438                  10.132263   \n",
       "13           6102                  10.612816   \n",
       "14           5827                  13.025180   \n",
       "\n",
       "                                                name  \n",
       "0           (а)Синхрон-lite. Лига старта. Эпизод III  \n",
       "1               Межфакультетский кубок МГУ. Отбор №4  \n",
       "2                                      Школьная лига  \n",
       "3           (а)Синхрон-lite. Лига старта. Эпизод VII  \n",
       "4            (а)Синхрон-lite. Лига старта. Эпизод IX  \n",
       "5                            Школьная лига. III тур.  \n",
       "6                              Школьная лига. I тур.  \n",
       "7                  Школьный Синхрон-lite. Выпуск 2.5  \n",
       "8             (а)Синхрон-lite. Лига старта. Эпизод V  \n",
       "9   Второй тематический турнир имени Джоуи Триббиани  \n",
       "10    Студенческий чемпионат Калининградской области  \n",
       "11                            Асинхрон по South Park  \n",
       "12                               Синхрон Лиги Разума  \n",
       "13                                  One ring - async  \n",
       "14                 Шестой киевский марафон. Асинхрон  "
      ]
     },
     "execution_count": 26,
     "metadata": {},
     "output_type": "execute_result"
    }
   ],
   "source": [
    "top_n = 15\n",
    "print(f\"Топ {top_n} самых простых турниров\")\n",
    "tournament_to_weight.tail(top_n).merge(\n",
    "    df_tournaments[[\"id\", \"name\"]].set_index(\"id\"),\n",
    "    left_on=\"tournament_id\", right_on=\"id\",\n",
    ")"
   ]
  }
 ],
 "metadata": {
  "kernelspec": {
   "display_name": "Python 3",
   "language": "python",
   "name": "python3"
  },
  "language_info": {
   "codemirror_mode": {
    "name": "ipython",
    "version": 3
   },
   "file_extension": ".py",
   "mimetype": "text/x-python",
   "name": "python",
   "nbconvert_exporter": "python",
   "pygments_lexer": "ipython3",
   "version": "3.7.9"
  }
 },
 "nbformat": 4,
 "nbformat_minor": 5
}
