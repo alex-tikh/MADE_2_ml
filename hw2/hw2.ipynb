{
 "cells": [
  {
   "cell_type": "raw",
   "id": "institutional-namibia",
   "metadata": {},
   "source": [
    "%%bash\n",
    "\n",
    "unzip chgk.zip"
   ]
  },
  {
   "cell_type": "code",
   "execution_count": 1,
   "id": "vocal-covering",
   "metadata": {},
   "outputs": [],
   "source": [
    "import pandas as pd\n",
    "import pickle\n",
    "import numpy as np"
   ]
  },
  {
   "cell_type": "code",
   "execution_count": 2,
   "id": "appropriate-estate",
   "metadata": {},
   "outputs": [],
   "source": [
    "import pickle\n",
    "\n",
    "def dump_pickle(file_path, obj):\n",
    "    with open(file_path, \"wb\") as dump_file:\n",
    "        pickle.dump(obj, dump_file)\n",
    "\n",
    "def load_pickle(file_path):\n",
    "    with open(file_path, 'rb') as load_file:\n",
    "        return pickle.load(load_file)"
   ]
  },
  {
   "cell_type": "markdown",
   "id": "athletic-ending",
   "metadata": {},
   "source": [
    "## 1 Анализ данных\n",
    "\n",
    "Раскроем данные так, чтобы они приняли формат player -> ответ на вопрос\n",
    "- отфильтруем турниры до 2019-01-01\n",
    "- разобъем их на трейн тест\n",
    "- отфильтруем турниры с пустыми полями 'mask', 'teamMembers', 'team'\n",
    "- для каждого игрока создадим свою строку в данных\n",
    "- для каждого вопроса создадим свою строку в даннных "
   ]
  },
  {
   "cell_type": "code",
   "execution_count": 32,
   "id": "contemporary-drain",
   "metadata": {},
   "outputs": [
    {
     "data": {
      "text/plain": [
       "(1109, 687, 422)"
      ]
     },
     "execution_count": 32,
     "metadata": {},
     "output_type": "execute_result"
    }
   ],
   "source": [
    "df_tournaments = pd.DataFrame(pd.read_pickle('tournaments.pkl')).transpose()\n",
    "#отфильтруем по дате\n",
    "tournaments_ids_all = set(df_tournaments[df_tournaments.dateStart >= '2019-01-01']['id'])\n",
    "tournaments_ids_test = set(df_tournaments[df_tournaments.dateStart >= '2020-01-01']['id'])\n",
    "tournaments_ids_train = tournaments_ids_all.difference(tournaments_ids_test)\n",
    "len(tournaments_ids_all), len(tournaments_ids_train), len(tournaments_ids_test)"
   ]
  },
  {
   "cell_type": "code",
   "execution_count": 56,
   "id": "offshore-seafood",
   "metadata": {},
   "outputs": [
    {
     "name": "stdout",
     "output_type": "stream",
     "text": [
      "full df:  5528\n",
      "filtered df:  671\n",
      "full df:  5528\n",
      "filtered df:  169\n"
     ]
    }
   ],
   "source": [
    "def filter_df(tournaments_ids):\n",
    "    df_results = pd.read_pickle('results.pkl')\n",
    "    print(\"full df: \", len(df_results))\n",
    "    results_all = {}\n",
    "    for key, value in df_results.items():\n",
    "        # берем турниры из tournaments_ids без пустых значений\n",
    "        if key in tournaments_ids and len(value) > 0:\n",
    "            valid = True\n",
    "            # фильтруем турниры с пустой инфой по команде\n",
    "            for team_data in value:\n",
    "                if 'team' not in team_data or 'mask' not in team_data or 'teamMembers' not in team_data:\n",
    "                    valid = False\n",
    "                    continue\n",
    "                if team_data['mask'] is None or team_data['team'] is None or team_data['teamMembers'] is None:\n",
    "                    valid = False\n",
    "                    continue\n",
    "            if valid:\n",
    "                results_all[key] = value\n",
    "    print(\"filtered df: \", len(results_all))\n",
    "    return results_all\n",
    "\n",
    "df_train = filter_df(tournaments_ids_train)\n",
    "df_test = filter_df(tournaments_ids_test)\n",
    "dump_pickle('test.pkl', df_test)\n",
    "\n",
    "def unpivot_players(df):\n",
    "    df_results_cleaned = []\n",
    "    for key, value in df.items():\n",
    "        # чистим маску и переводим игроков из массива в отдельные строки\n",
    "        for team_data in value:\n",
    "            team = team_data['team']\n",
    "            mask = str(team_data['mask']).replace('X', '0').replace('?', '0')\n",
    "            players = team_data['teamMembers']\n",
    "            for player in players:\n",
    "                df_results_cleaned.append([key, team['id'], player['player']['id'], mask])\n",
    "    df = pd.DataFrame(df_results_cleaned)\n",
    "    df.columns = ['tournament_id', 'team_id', 'player_id', 'mask']\n",
    "    return df\n",
    "\n",
    "df_train = unpivot_players(df_train)\n",
    "\n",
    "def unpivot_questions(df):\n",
    "    df_results_cleaned = []\n",
    "    for _, row in df.iterrows():\n",
    "        tournament_id = row['tournament_id']\n",
    "        team_id = row['team_id']\n",
    "        player_id = row['player_id']\n",
    "        mask = row['mask']\n",
    "        # переводим маску из массива в отдельные строки\n",
    "        for idx in range(len(mask)):\n",
    "            df_results_cleaned.append([tournament_id, team_id, player_id, f\"{tournament_id}_{idx}\", mask[idx]])\n",
    "    df = pd.DataFrame(df_results_cleaned)\n",
    "    df.columns = ['tournament_id', 'team_id', 'player_id', 'question_id', 'target']\n",
    "    return df\n",
    "\n",
    "df_train = unpivot_questions(df_train)\n",
    "compression_opts = dict(method='zip', archive_name='train.csv')\n",
    "df_train.to_csv('train.zip', index=False, compression=compression_opts)"
   ]
  },
  {
   "cell_type": "markdown",
   "id": "expanded-habitat",
   "metadata": {},
   "source": [
    "## 2 Baseline model\n",
    "\n",
    "Построим модель на one-hot векторах из игроков и вопросов\n",
    "\n",
    "Т.к. дальше в EM алгоритме нам нужно будет обучать модель на вероятностях, то построим модель по схеме предложенной тут:\n",
    "https://stackoverflow.com/questions/42800769/scikit-learn-classification-on-soft-labels/60969923#60969923\n"
   ]
  },
  {
   "cell_type": "code",
   "execution_count": 64,
   "id": "designing-score",
   "metadata": {},
   "outputs": [],
   "source": [
    "df_train = pd.read_csv('train.zip', \n",
    "                       dtype={'tournament_id':np.int16, 'team_id':np.int32,\n",
    "                              'player_id':np.int32, 'question_id':object, 'target':np.int8})"
   ]
  },
  {
   "cell_type": "code",
   "execution_count": 9,
   "id": "dying-physics",
   "metadata": {},
   "outputs": [
    {
     "data": {
      "text/html": [
       "<div>\n",
       "<style scoped>\n",
       "    .dataframe tbody tr th:only-of-type {\n",
       "        vertical-align: middle;\n",
       "    }\n",
       "\n",
       "    .dataframe tbody tr th {\n",
       "        vertical-align: top;\n",
       "    }\n",
       "\n",
       "    .dataframe thead th {\n",
       "        text-align: right;\n",
       "    }\n",
       "</style>\n",
       "<table border=\"1\" class=\"dataframe\">\n",
       "  <thead>\n",
       "    <tr style=\"text-align: right;\">\n",
       "      <th></th>\n",
       "      <th>tournament_id</th>\n",
       "      <th>team_id</th>\n",
       "      <th>player_id</th>\n",
       "      <th>question_local_id</th>\n",
       "      <th>target</th>\n",
       "    </tr>\n",
       "  </thead>\n",
       "  <tbody>\n",
       "    <tr>\n",
       "      <th>0</th>\n",
       "      <td>4772</td>\n",
       "      <td>45556</td>\n",
       "      <td>6212</td>\n",
       "      <td>4772_0</td>\n",
       "      <td>1</td>\n",
       "    </tr>\n",
       "    <tr>\n",
       "      <th>1</th>\n",
       "      <td>4772</td>\n",
       "      <td>45556</td>\n",
       "      <td>6212</td>\n",
       "      <td>4772_1</td>\n",
       "      <td>1</td>\n",
       "    </tr>\n",
       "    <tr>\n",
       "      <th>2</th>\n",
       "      <td>4772</td>\n",
       "      <td>45556</td>\n",
       "      <td>6212</td>\n",
       "      <td>4772_2</td>\n",
       "      <td>1</td>\n",
       "    </tr>\n",
       "    <tr>\n",
       "      <th>3</th>\n",
       "      <td>4772</td>\n",
       "      <td>45556</td>\n",
       "      <td>6212</td>\n",
       "      <td>4772_3</td>\n",
       "      <td>1</td>\n",
       "    </tr>\n",
       "    <tr>\n",
       "      <th>4</th>\n",
       "      <td>4772</td>\n",
       "      <td>45556</td>\n",
       "      <td>6212</td>\n",
       "      <td>4772_4</td>\n",
       "      <td>1</td>\n",
       "    </tr>\n",
       "  </tbody>\n",
       "</table>\n",
       "</div>"
      ],
      "text/plain": [
       "   tournament_id  team_id  player_id question_local_id  target\n",
       "0           4772    45556       6212            4772_0       1\n",
       "1           4772    45556       6212            4772_1       1\n",
       "2           4772    45556       6212            4772_2       1\n",
       "3           4772    45556       6212            4772_3       1\n",
       "4           4772    45556       6212            4772_4       1"
      ]
     },
     "execution_count": 9,
     "metadata": {},
     "output_type": "execute_result"
    }
   ],
   "source": [
    "df_train.head()"
   ]
  },
  {
   "cell_type": "code",
   "execution_count": 10,
   "id": "neither-border",
   "metadata": {},
   "outputs": [],
   "source": [
    "from sklearn.preprocessing import OneHotEncoder, Normalizer\n",
    "from sklearn.compose import ColumnTransformer\n",
    "from sklearn.pipeline import Pipeline\n",
    "from sklearn.linear_model import LogisticRegression, LinearRegression"
   ]
  },
  {
   "cell_type": "code",
   "execution_count": 11,
   "id": "transsexual-label",
   "metadata": {},
   "outputs": [],
   "source": [
    "def sigmoid(x):\n",
    "    ex = np.exp(x)\n",
    "    return ex / (1 + ex)"
   ]
  },
  {
   "cell_type": "code",
   "execution_count": 12,
   "id": "personal-yorkshire",
   "metadata": {},
   "outputs": [],
   "source": [
    "feature_generation = ColumnTransformer(\n",
    "    transformers=[\n",
    "        ('OneHot', OneHotEncoder(), ['player_id', 'question_id'])\n",
    "    ],\n",
    "    remainder='drop',\n",
    "    sparse_threshold=1\n",
    ")\n",
    "\n",
    "soft_pipe = Pipeline(\n",
    "    steps=[\n",
    "        ('feature_generation', feature_generation),\n",
    "        #('scaler', StandardScaler()),\n",
    "        #('classifier', LogisticRegression(solver='liblinear', max_iter=100))\n",
    "        ('classifier', LinearRegression())\n",
    "    ]\n",
    ")"
   ]
  },
  {
   "cell_type": "code",
   "execution_count": 13,
   "id": "confident-guest",
   "metadata": {},
   "outputs": [
    {
     "data": {
      "text/plain": [
       "(20968351, 5)"
      ]
     },
     "execution_count": 13,
     "metadata": {},
     "output_type": "execute_result"
    }
   ],
   "source": [
    "df_train.shape"
   ]
  },
  {
   "cell_type": "raw",
   "id": "complex-serve",
   "metadata": {},
   "source": [
    "%%time\n",
    "pipe.fit(df_train, df_train['target'])"
   ]
  },
  {
   "cell_type": "code",
   "execution_count": 14,
   "id": "atmospheric-correction",
   "metadata": {},
   "outputs": [
    {
     "name": "stdout",
     "output_type": "stream",
     "text": [
      "CPU times: user 11min 21s, sys: 11min 18s, total: 22min 40s\n",
      "Wall time: 4min 6s\n"
     ]
    },
    {
     "data": {
      "text/plain": [
       "Pipeline(steps=[('feature_generation',\n",
       "                 ColumnTransformer(sparse_threshold=1,\n",
       "                                   transformers=[('OneHot', OneHotEncoder(),\n",
       "                                                  ['player_id',\n",
       "                                                   'question_local_id'])])),\n",
       "                ('classifier', LinearRegression())])"
      ]
     },
     "execution_count": 14,
     "metadata": {},
     "output_type": "execute_result"
    }
   ],
   "source": [
    "%%time\n",
    "# logistic regression on soft labels\n",
    "# https://stackoverflow.com/questions/42800769/scikit-learn-classification-on-soft-labels/60969923#60969923\n",
    "\n",
    "y = np.clip(df_train['target'], 1e-8, 1 - 1e-8)   # numerical stability\n",
    "inv_sig_y = np.log(y / (1 - y))  # transform to log-odds-ratio space\n",
    "\n",
    "soft_pipe.fit(df_train, inv_sig_y)"
   ]
  },
  {
   "cell_type": "markdown",
   "id": "square-acrylic",
   "metadata": {},
   "source": [
    "## 3 Качество рейтинг-системы"
   ]
  },
  {
   "cell_type": "code",
   "execution_count": 15,
   "id": "naval-syria",
   "metadata": {},
   "outputs": [],
   "source": [
    "import dill\n",
    "\n",
    "def dump_dill(file_path, obj):\n",
    "    with open(file_path, \"wb\") as dump_file:\n",
    "        dill.dump(obj, dump_file)\n",
    "        \n",
    "def load_dill(file_path):\n",
    "    with open(file_path, \"rb\") as dump_file:\n",
    "        return dill.load(dump_file)\n",
    "    \n",
    "dump_dill('logreg_model.dll', soft_pipe)"
   ]
  },
  {
   "cell_type": "code",
   "execution_count": 65,
   "id": "egyptian-border",
   "metadata": {},
   "outputs": [],
   "source": [
    "soft_pipe = load_dill('logreg_model.dll')"
   ]
  },
  {
   "cell_type": "code",
   "execution_count": 60,
   "id": "interested-second",
   "metadata": {},
   "outputs": [],
   "source": [
    "df_test = load_pickle('test.pkl')"
   ]
  },
  {
   "cell_type": "code",
   "execution_count": 53,
   "id": "compliant-slope",
   "metadata": {},
   "outputs": [],
   "source": [
    "# добудем веса из модели для каждого игрока\n",
    "player_to_weight = {int(name.split('_')[-1]): rank for name, rank in zip(\n",
    "    soft_pipe['feature_generation'].get_feature_names(),\n",
    "    soft_pipe['classifier'].coef_) if name.split('_')[2] == 'x0'}"
   ]
  },
  {
   "cell_type": "markdown",
   "id": "underlying-absorption",
   "metadata": {},
   "source": [
    "Посмотрим насколько совпадают топ 100 и наш рейтинг\n",
    "\n",
    "Ссылка на официальный рейтинг: https://rating.chgk.info/players.php"
   ]
  },
  {
   "cell_type": "code",
   "execution_count": 55,
   "id": "federal-disposition",
   "metadata": {},
   "outputs": [
    {
     "name": "stdout",
     "output_type": "stream",
     "text": [
      "Получается, что в наш топ 100 и в официальный топ 100 входит 47 человек\n",
      "Конечно, такая простая проверка не учитывает порядок ранжирования\n"
     ]
    }
   ],
   "source": [
    "official_top_100_ids = pd.read_csv('player_off_top.csv')[:100]\n",
    "official_top_100_ids = set(official_top_100_ids[' ИД'])\n",
    "\n",
    "player_to_weight_sorted = sorted(player_to_weight.items(), key=lambda kv: kv[1], reverse=True)\n",
    "predicted_top_100_ids = set(k for k, v in player_to_weight_sorted[:100])\n",
    "\n",
    "intersec = len(official_top_100_ids.intersection(predicted_top_100_ids))\n",
    "print(f\"Получается, что в наш топ 100 и в официальный топ 100 входит {intersec} человек\")\n",
    "print('Конечно, такая простая проверка не учитывает порядок ранжирования')"
   ]
  },
  {
   "cell_type": "code",
   "execution_count": 58,
   "id": "eleven-auckland",
   "metadata": {},
   "outputs": [],
   "source": [
    "from scipy import stats"
   ]
  },
  {
   "cell_type": "markdown",
   "id": "indie-milwaukee",
   "metadata": {},
   "source": [
    "Будем считать рейтинг команды как средний рейтинг ее игроков.\n",
    "\n",
    "Если игрока нет в тестовых данных, то ставим ему в соответствие средний вес по всем игрокам в трейне"
   ]
  },
  {
   "cell_type": "code",
   "execution_count": 56,
   "id": "surprising-clerk",
   "metadata": {},
   "outputs": [],
   "source": [
    "def get_real_rank(tournament):\n",
    "    return [team['position'] for team in tournament]\n",
    "\n",
    "def get_predicted_rank(tournament):\n",
    "    avg_weight = np.mean(list(player_to_weight.values()))\n",
    "    team_rating = []\n",
    "    for idx, team in enumerate(tournament):\n",
    "        weight = 0\n",
    "        cnt = 0\n",
    "        for player_info in team['teamMembers']:\n",
    "            p_id = player_info['player']['id']\n",
    "            try:\n",
    "                weight += player_to_weight[p_id]\n",
    "            except:\n",
    "                weight += avg_weight\n",
    "            cnt += 1\n",
    "        try:\n",
    "            mean = weight/cnt\n",
    "        except:\n",
    "            mean = 0\n",
    "        team_rating.append((idx + 1, mean))\n",
    "    team_rating = sorted(team_rating, key=lambda kv: kv[1], reverse=True)\n",
    "    return [pos for pos, weight in team_rating]"
   ]
  },
  {
   "cell_type": "code",
   "execution_count": 63,
   "id": "illegal-booth",
   "metadata": {},
   "outputs": [
    {
     "name": "stdout",
     "output_type": "stream",
     "text": [
      "Average Spearman correlation for df_test: 0.776\n",
      "Average Kendall  correlation for df_test: 0.622\n"
     ]
    }
   ],
   "source": [
    "def get_score(df, corr):\n",
    "    x = [corr(get_real_rank(tour), get_predicted_rank(tour)).correlation for tour in df.values()]\n",
    "    return np.nanmean(x)\n",
    "\n",
    "for corr in [('Spearman', stats.spearmanr), ('Kendall ', stats.kendalltau)]:\n",
    "    print(f\"Average {corr[0]} correlation for df_test: {get_score(df_test, corr[1]):.3f}\")"
   ]
  },
  {
   "cell_type": "markdown",
   "id": "innocent-python",
   "metadata": {},
   "source": [
    "## 4 EM схема"
   ]
  },
  {
   "cell_type": "markdown",
   "id": "assumed-certification",
   "metadata": {},
   "source": [
    "Скрытыми переменными $z_{i,q}$ являются ответил ли $i$-ый игрок в команде на вопрос $q$. Пусть $y_{tq}$ - ответ команды $T$ на вопрос $q$. Если команда не ответила на вопрос, то ни один игрок команды не ответил на вопрос, если ответила - то значит хотя бы один игрок ответил.\n",
    "\n",
    "Величины $z_{i,q}$ будем моделировать логистическими регрессиями от *player_id* и *question_id*.\n",
    "\n",
    "$$p\\left(z_{i,q} \\vert \\overrightarrow{x_i}\\right) \\sim \\sigma\\left(\\overrightarrow{x_i}\\right)$$\n",
    "\n",
    "Тогда *Expectation* шаг будет рассчитываться по формуле\n",
    "\n",
    "$$ \n",
    "\\mathbb{E} \\left[ z^{(m+1)}_{i,q} \\right] = \n",
    "\\begin{cases}\n",
    "0, \\text{если } y_{tq} = 0,\\\\\n",
    "p\\left( z^{(m)}_{i,q} = 1 \\vert \\exists j \\in t : z^{(m)}_{j,q} = 1\\right), \\text{ если } y_{tq} = 1. \n",
    "\\end{cases} \n",
    "$$\n",
    "\n",
    "Где\n",
    "$$\n",
    "p\\left( z^{(m)}_{i,q} = 1 | \\exists j \\in t : z^{(m)}_{j,q} = 1\\right) = \\frac{\\sigma (\\overrightarrow{x^{(m)}_i})}{1-\\prod_{k \\in T} (1 - \\sigma(\\overrightarrow{x^{(m)}_k}))}\n",
    "$$\n",
    "\n",
    "На *Maximization* шаге будем бучать модель\n",
    "\n",
    "$$\\mathbb{E} \\left[ z^{(m+1)}_{i,q} \\right] \\sim \\sigma\\left(\\overrightarrow{x^{(m+1)}_i}\\right)$$\n",
    "\n",
    "В качестве начальных параметров возьмем параметры модели из бейзлайна"
   ]
  },
  {
   "cell_type": "code",
   "execution_count": 66,
   "id": "creative-waste",
   "metadata": {},
   "outputs": [],
   "source": [
    "from functools import reduce\n",
    "\n",
    "def pred_by_team(arr):\n",
    "    arr = 1-arr\n",
    "    return 1 - np.prod(arr)"
   ]
  },
  {
   "cell_type": "code",
   "execution_count": null,
   "id": "strange-handling",
   "metadata": {
    "scrolled": false
   },
   "outputs": [
    {
     "name": "stdout",
     "output_type": "stream",
     "text": [
      "Iteration number: 0\n"
     ]
    },
    {
     "name": "stderr",
     "output_type": "stream",
     "text": [
      "/home/alexander/miniconda3/envs/2_ml/lib/python3.7/site-packages/sklearn/compose/_column_transformer.py:440: FutureWarning: Given feature/column names or counts do not match the ones for the data given during fit. This will fail from v0.24.\n",
      "  FutureWarning)\n"
     ]
    },
    {
     "name": "stdout",
     "output_type": "stream",
     "text": [
      "Average Spearman correlation for df_test: 0.771\n",
      "Average Kendall  correlation for df_test: 0.617\n",
      "Iteration number: 1\n",
      "Average Spearman correlation for df_test: 0.771\n",
      "Average Kendall  correlation for df_test: 0.617\n",
      "Iteration number: 2\n",
      "Average Spearman correlation for df_test: 0.776\n",
      "Average Kendall  correlation for df_test: 0.621\n",
      "Iteration number: 3\n",
      "Average Spearman correlation for df_test: 0.777\n",
      "Average Kendall  correlation for df_test: 0.621\n",
      "Iteration number: 4\n"
     ]
    }
   ],
   "source": [
    "df_train['new_target'] = df_train['target']\n",
    "number_iter = 10\n",
    "\n",
    "print('Baseline:')\n",
    "for corr in [('Spearman', stats.spearmanr), ('Kendall ', stats.kendalltau)]:\n",
    "    print(f\"Average {corr[0]} correlation for df_test: {get_score(df_test, corr[1]):.3f}\")\n",
    "\n",
    "for i in range(number_iter):\n",
    "    print(f\"Iteration number: {i}\")\n",
    "    #if i == 0:\n",
    "    #    df_train['pred'] = pipe.predict_proba(df_train)[:, 1]\n",
    "    #if i > 0:\n",
    "    \n",
    "    # EXPECTATION STEP\n",
    "    df_train['pred'] = sigmoid(soft_pipe.predict(df_train))\n",
    "        \n",
    "    pred_by_group = (df_train[df_train.target == 1]\n",
    "             .groupby(['team_id', 'question_id'], as_index=False)['pred']\n",
    "             .apply(pred_by_team)\n",
    "             .rename(columns={'pred':'pred_by_team'}))\n",
    "    df_train = pd.merge(df_train, pred_by_group, how='left', on=['team_id', 'question_id'])\n",
    "    df_train['new_target'] = df_train['pred']/df_train['pred_by_team']\n",
    "    df_train.loc[df_train['target'] == 0, 'new_target'] = 0\n",
    "\n",
    "    df_train = df_train.drop(columns=['pred', 'pred_by_team'])\n",
    "\n",
    "    # MAXIMIZATION STEP\n",
    "    y = np.clip(df_train['new_target'], 1e-8, 1 - 1e-8)   # numerical stability\n",
    "    inv_sig_y = np.log(y / (1 - y))  # transform to log-odds-ratio space\n",
    "    \n",
    "    soft_pipe.fit(df_train, inv_sig_y)\n",
    "    \n",
    "    # VALUATION STEP\n",
    "    # добудем веса из модели для каждого игрока\n",
    "    player_to_weight = {int(name.split('_')[-1]): rank for name, rank in zip(\n",
    "        soft_pipe['feature_generation'].get_feature_names(),\n",
    "        soft_pipe['classifier'].coef_) if name.split('_')[2] == 'x0'}\n",
    "    \n",
    "    for corr in [('Spearman', stats.spearmanr), ('Kendall ', stats.kendalltau)]:\n",
    "        print(f\"Average {corr[0]} correlation for df_test: {get_score(df_test, corr[1]):.3f}\")"
   ]
  },
  {
   "cell_type": "markdown",
   "id": "united-prize",
   "metadata": {},
   "source": [
    "К сожалению, EM алгоритм не дал серьезного прироста, возможно стоило реализовывать честную лог-регрессию на pyTorch"
   ]
  },
  {
   "cell_type": "markdown",
   "id": "furnished-avenue",
   "metadata": {},
   "source": [
    "## 5 Рейтинг лист турниров по сложности вопросов"
   ]
  },
  {
   "cell_type": "markdown",
   "id": "looking-ozone",
   "metadata": {},
   "source": [
    "По аналогии с игроками, достанем из модели сложность каждого вопроса (коэффициент модели для этого вопроса).\n",
    "\n",
    "Сложность вопроса должна уменьшать вероятность правильного ответа, поэтому чем меньше этот коэффициент - тем сложнее вопрос.\n",
    "\n",
    "Для каждого турнира возьмем среднее от сложности его вопросов. Такую величину будем считать сложностью турнира"
   ]
  },
  {
   "cell_type": "code",
   "execution_count": 24,
   "id": "competent-remainder",
   "metadata": {},
   "outputs": [],
   "source": [
    "question_to_weight = {name.split('_')[-2] + '_' + name.split('_')[-1]: rank for name, rank in zip(\n",
    "    soft_pipe['feature_generation'].get_feature_names(),\n",
    "    soft_pipe['classifier'].coef_) if name.split('_')[2] == 'x1'}"
   ]
  },
  {
   "cell_type": "code",
   "execution_count": 46,
   "id": "utility-multiple",
   "metadata": {},
   "outputs": [],
   "source": [
    "def mean_question_weight(arr):\n",
    "    '''\n",
    "    map questions to weights and take mean\n",
    "    '''\n",
    "    return np.mean(list(map(question_to_weight.get, arr)))\n",
    "\n",
    "tournament_to_weight = df_train.groupby('tournament_id', as_index=False)['question_id'] \\\n",
    "    .apply(mean_question_weight) \\\n",
    "    .sort_values(by=['question_id']) \\\n",
    "    .rename(columns={\"question_id\": \"questions_mean_difficulty\"})"
   ]
  },
  {
   "cell_type": "markdown",
   "id": "blind-floating",
   "metadata": {},
   "source": [
    "В топ 15 сложных турниров входят Чемпионаты и Первые лиги, что кажется разумным"
   ]
  },
  {
   "cell_type": "code",
   "execution_count": 51,
   "id": "strange-utilization",
   "metadata": {},
   "outputs": [
    {
     "name": "stdout",
     "output_type": "stream",
     "text": [
      "Топ 15 самых сложных турниров\n"
     ]
    },
    {
     "data": {
      "text/html": [
       "<div>\n",
       "<style scoped>\n",
       "    .dataframe tbody tr th:only-of-type {\n",
       "        vertical-align: middle;\n",
       "    }\n",
       "\n",
       "    .dataframe tbody tr th {\n",
       "        vertical-align: top;\n",
       "    }\n",
       "\n",
       "    .dataframe thead th {\n",
       "        text-align: right;\n",
       "    }\n",
       "</style>\n",
       "<table border=\"1\" class=\"dataframe\">\n",
       "  <thead>\n",
       "    <tr style=\"text-align: right;\">\n",
       "      <th></th>\n",
       "      <th>tournament_id</th>\n",
       "      <th>questions_mean_difficulty</th>\n",
       "      <th>name</th>\n",
       "    </tr>\n",
       "  </thead>\n",
       "  <tbody>\n",
       "    <tr>\n",
       "      <th>0</th>\n",
       "      <td>6149</td>\n",
       "      <td>-19.976457</td>\n",
       "      <td>Чемпионат Санкт-Петербурга. Первая лига</td>\n",
       "    </tr>\n",
       "    <tr>\n",
       "      <th>1</th>\n",
       "      <td>5928</td>\n",
       "      <td>-13.720029</td>\n",
       "      <td>Угрюмый Ёрш</td>\n",
       "    </tr>\n",
       "    <tr>\n",
       "      <th>2</th>\n",
       "      <td>5684</td>\n",
       "      <td>-12.209780</td>\n",
       "      <td>Синхрон высшей лиги Москвы</td>\n",
       "    </tr>\n",
       "    <tr>\n",
       "      <th>3</th>\n",
       "      <td>6101</td>\n",
       "      <td>-11.546630</td>\n",
       "      <td>Воображаемый музей</td>\n",
       "    </tr>\n",
       "    <tr>\n",
       "      <th>4</th>\n",
       "      <td>5159</td>\n",
       "      <td>-11.503855</td>\n",
       "      <td>Первенство правого полушария</td>\n",
       "    </tr>\n",
       "    <tr>\n",
       "      <th>5</th>\n",
       "      <td>5587</td>\n",
       "      <td>-10.605014</td>\n",
       "      <td>Записки охотника</td>\n",
       "    </tr>\n",
       "    <tr>\n",
       "      <th>6</th>\n",
       "      <td>5930</td>\n",
       "      <td>-10.472123</td>\n",
       "      <td>Зеркало мемориала памяти Михаила Басса</td>\n",
       "    </tr>\n",
       "    <tr>\n",
       "      <th>7</th>\n",
       "      <td>5515</td>\n",
       "      <td>-10.394222</td>\n",
       "      <td>Чемпионат Минска. Лига А. Тур четвёртый</td>\n",
       "    </tr>\n",
       "    <tr>\n",
       "      <th>8</th>\n",
       "      <td>5693</td>\n",
       "      <td>-10.393430</td>\n",
       "      <td>Знание – Сила VI</td>\n",
       "    </tr>\n",
       "    <tr>\n",
       "      <th>9</th>\n",
       "      <td>5083</td>\n",
       "      <td>-10.391404</td>\n",
       "      <td>Ускользающая сова</td>\n",
       "    </tr>\n",
       "    <tr>\n",
       "      <th>10</th>\n",
       "      <td>5942</td>\n",
       "      <td>-9.804572</td>\n",
       "      <td>Чемпионат Мира. Этап 2. Группа В</td>\n",
       "    </tr>\n",
       "    <tr>\n",
       "      <th>11</th>\n",
       "      <td>5465</td>\n",
       "      <td>-9.771214</td>\n",
       "      <td>Чемпионат России</td>\n",
       "    </tr>\n",
       "    <tr>\n",
       "      <th>12</th>\n",
       "      <td>5943</td>\n",
       "      <td>-9.754113</td>\n",
       "      <td>Чемпионат Мира. Этап 2 Группа С</td>\n",
       "    </tr>\n",
       "    <tr>\n",
       "      <th>13</th>\n",
       "      <td>5950</td>\n",
       "      <td>-9.405689</td>\n",
       "      <td>Чемпионат Мира. Финал. Группа С</td>\n",
       "    </tr>\n",
       "    <tr>\n",
       "      <th>14</th>\n",
       "      <td>5421</td>\n",
       "      <td>-9.339920</td>\n",
       "      <td>Львов зимой. Адвокат</td>\n",
       "    </tr>\n",
       "    <tr>\n",
       "      <th>15</th>\n",
       "      <td>5025</td>\n",
       "      <td>-9.212137</td>\n",
       "      <td>Кубок городов</td>\n",
       "    </tr>\n",
       "    <tr>\n",
       "      <th>16</th>\n",
       "      <td>5303</td>\n",
       "      <td>-9.090195</td>\n",
       "      <td>Мемориал Дмитрия Коноваленко</td>\n",
       "    </tr>\n",
       "    <tr>\n",
       "      <th>17</th>\n",
       "      <td>5412</td>\n",
       "      <td>-9.084284</td>\n",
       "      <td>Серия Premier. Седьмая печать</td>\n",
       "    </tr>\n",
       "    <tr>\n",
       "      <th>18</th>\n",
       "      <td>5946</td>\n",
       "      <td>-9.068232</td>\n",
       "      <td>Чемпионат Мира. Этап 3. Группа В</td>\n",
       "    </tr>\n",
       "    <tr>\n",
       "      <th>19</th>\n",
       "      <td>5161</td>\n",
       "      <td>-9.018563</td>\n",
       "      <td>Антибинго</td>\n",
       "    </tr>\n",
       "  </tbody>\n",
       "</table>\n",
       "</div>"
      ],
      "text/plain": [
       "    tournament_id  questions_mean_difficulty  \\\n",
       "0            6149                 -19.976457   \n",
       "1            5928                 -13.720029   \n",
       "2            5684                 -12.209780   \n",
       "3            6101                 -11.546630   \n",
       "4            5159                 -11.503855   \n",
       "5            5587                 -10.605014   \n",
       "6            5930                 -10.472123   \n",
       "7            5515                 -10.394222   \n",
       "8            5693                 -10.393430   \n",
       "9            5083                 -10.391404   \n",
       "10           5942                  -9.804572   \n",
       "11           5465                  -9.771214   \n",
       "12           5943                  -9.754113   \n",
       "13           5950                  -9.405689   \n",
       "14           5421                  -9.339920   \n",
       "15           5025                  -9.212137   \n",
       "16           5303                  -9.090195   \n",
       "17           5412                  -9.084284   \n",
       "18           5946                  -9.068232   \n",
       "19           5161                  -9.018563   \n",
       "\n",
       "                                       name  \n",
       "0   Чемпионат Санкт-Петербурга. Первая лига  \n",
       "1                               Угрюмый Ёрш  \n",
       "2                Синхрон высшей лиги Москвы  \n",
       "3                        Воображаемый музей  \n",
       "4              Первенство правого полушария  \n",
       "5                          Записки охотника  \n",
       "6    Зеркало мемориала памяти Михаила Басса  \n",
       "7   Чемпионат Минска. Лига А. Тур четвёртый  \n",
       "8                          Знание – Сила VI  \n",
       "9                         Ускользающая сова  \n",
       "10         Чемпионат Мира. Этап 2. Группа В  \n",
       "11                         Чемпионат России  \n",
       "12          Чемпионат Мира. Этап 2 Группа С  \n",
       "13          Чемпионат Мира. Финал. Группа С  \n",
       "14                     Львов зимой. Адвокат  \n",
       "15                            Кубок городов  \n",
       "16             Мемориал Дмитрия Коноваленко  \n",
       "17            Серия Premier. Седьмая печать  \n",
       "18         Чемпионат Мира. Этап 3. Группа В  \n",
       "19                                Антибинго  "
      ]
     },
     "execution_count": 51,
     "metadata": {},
     "output_type": "execute_result"
    }
   ],
   "source": [
    "top_n = 15\n",
    "print(f\"Топ {top_n} самых сложных турниров\")\n",
    "tournament_to_weight.head(TOP_N).merge(\n",
    "    df_tournaments[[\"id\", \"name\"]].set_index(\"id\"),\n",
    "    left_on=\"tournament_id\", right_on=\"id\",\n",
    ")"
   ]
  },
  {
   "cell_type": "markdown",
   "id": "intellectual-montana",
   "metadata": {},
   "source": [
    "В топ 15 простых турниров входят школьные и студенческие игры, а также игры lite"
   ]
  },
  {
   "cell_type": "code",
   "execution_count": 48,
   "id": "sufficient-tsunami",
   "metadata": {},
   "outputs": [
    {
     "name": "stdout",
     "output_type": "stream",
     "text": [
      "Топ 15 самых простых турниров\n"
     ]
    },
    {
     "data": {
      "text/html": [
       "<div>\n",
       "<style scoped>\n",
       "    .dataframe tbody tr th:only-of-type {\n",
       "        vertical-align: middle;\n",
       "    }\n",
       "\n",
       "    .dataframe tbody tr th {\n",
       "        vertical-align: top;\n",
       "    }\n",
       "\n",
       "    .dataframe thead th {\n",
       "        text-align: right;\n",
       "    }\n",
       "</style>\n",
       "<table border=\"1\" class=\"dataframe\">\n",
       "  <thead>\n",
       "    <tr style=\"text-align: right;\">\n",
       "      <th></th>\n",
       "      <th>tournament_id</th>\n",
       "      <th>questions_mean_difficulty</th>\n",
       "      <th>name</th>\n",
       "    </tr>\n",
       "  </thead>\n",
       "  <tbody>\n",
       "    <tr>\n",
       "      <th>0</th>\n",
       "      <td>5601</td>\n",
       "      <td>11.974471</td>\n",
       "      <td>Межфакультетский кубок МГУ. Отбор №4</td>\n",
       "    </tr>\n",
       "    <tr>\n",
       "      <th>1</th>\n",
       "      <td>5912</td>\n",
       "      <td>12.008329</td>\n",
       "      <td>Borisov Brain Cup</td>\n",
       "    </tr>\n",
       "    <tr>\n",
       "      <th>2</th>\n",
       "      <td>5990</td>\n",
       "      <td>12.139901</td>\n",
       "      <td>Открытый кубок УМЭД</td>\n",
       "    </tr>\n",
       "    <tr>\n",
       "      <th>3</th>\n",
       "      <td>6249</td>\n",
       "      <td>12.484319</td>\n",
       "      <td>Школьный синхрон-lite. Сезон 3</td>\n",
       "    </tr>\n",
       "    <tr>\n",
       "      <th>4</th>\n",
       "      <td>6008</td>\n",
       "      <td>12.512924</td>\n",
       "      <td>Малый кубок Физтеха</td>\n",
       "    </tr>\n",
       "    <tr>\n",
       "      <th>5</th>\n",
       "      <td>5011</td>\n",
       "      <td>12.631702</td>\n",
       "      <td>(а)Синхрон-lite. Лига старта. Эпизод IV</td>\n",
       "    </tr>\n",
       "    <tr>\n",
       "      <th>6</th>\n",
       "      <td>5008</td>\n",
       "      <td>12.700200</td>\n",
       "      <td>Школьный Синхрон-lite. Выпуск 2.3</td>\n",
       "    </tr>\n",
       "    <tr>\n",
       "      <th>7</th>\n",
       "      <td>5701</td>\n",
       "      <td>12.869994</td>\n",
       "      <td>Школьный Синхрон-lite. Выпуск 3.3</td>\n",
       "    </tr>\n",
       "    <tr>\n",
       "      <th>8</th>\n",
       "      <td>5438</td>\n",
       "      <td>13.159744</td>\n",
       "      <td>Синхрон Лиги Разума</td>\n",
       "    </tr>\n",
       "    <tr>\n",
       "      <th>9</th>\n",
       "      <td>5697</td>\n",
       "      <td>13.293891</td>\n",
       "      <td>Школьный Синхрон-lite. Выпуск 3.1</td>\n",
       "    </tr>\n",
       "    <tr>\n",
       "      <th>10</th>\n",
       "      <td>5702</td>\n",
       "      <td>13.419419</td>\n",
       "      <td>(а)Синхрон-lite. Лига старта. Эпизод IX</td>\n",
       "    </tr>\n",
       "    <tr>\n",
       "      <th>11</th>\n",
       "      <td>5698</td>\n",
       "      <td>13.787948</td>\n",
       "      <td>(а)Синхрон-lite. Лига старта. Эпизод VII</td>\n",
       "    </tr>\n",
       "    <tr>\n",
       "      <th>12</th>\n",
       "      <td>5457</td>\n",
       "      <td>14.016974</td>\n",
       "      <td>Студенческий чемпионат Калининградской области</td>\n",
       "    </tr>\n",
       "    <tr>\n",
       "      <th>13</th>\n",
       "      <td>5009</td>\n",
       "      <td>14.111644</td>\n",
       "      <td>(а)Синхрон-lite. Лига старта. Эпизод III</td>\n",
       "    </tr>\n",
       "    <tr>\n",
       "      <th>14</th>\n",
       "      <td>5954</td>\n",
       "      <td>14.414075</td>\n",
       "      <td>Школьная лига. II тур.</td>\n",
       "    </tr>\n",
       "    <tr>\n",
       "      <th>15</th>\n",
       "      <td>5012</td>\n",
       "      <td>14.748737</td>\n",
       "      <td>Школьный Синхрон-lite. Выпуск 2.5</td>\n",
       "    </tr>\n",
       "    <tr>\n",
       "      <th>16</th>\n",
       "      <td>6254</td>\n",
       "      <td>15.045927</td>\n",
       "      <td>Школьная лига</td>\n",
       "    </tr>\n",
       "    <tr>\n",
       "      <th>17</th>\n",
       "      <td>5955</td>\n",
       "      <td>15.094471</td>\n",
       "      <td>Школьная лига. III тур.</td>\n",
       "    </tr>\n",
       "    <tr>\n",
       "      <th>18</th>\n",
       "      <td>5013</td>\n",
       "      <td>15.338724</td>\n",
       "      <td>(а)Синхрон-lite. Лига старта. Эпизод V</td>\n",
       "    </tr>\n",
       "    <tr>\n",
       "      <th>19</th>\n",
       "      <td>5936</td>\n",
       "      <td>15.391924</td>\n",
       "      <td>Школьная лига. I тур.</td>\n",
       "    </tr>\n",
       "  </tbody>\n",
       "</table>\n",
       "</div>"
      ],
      "text/plain": [
       "    tournament_id  questions_mean_difficulty  \\\n",
       "0            5601                  11.974471   \n",
       "1            5912                  12.008329   \n",
       "2            5990                  12.139901   \n",
       "3            6249                  12.484319   \n",
       "4            6008                  12.512924   \n",
       "5            5011                  12.631702   \n",
       "6            5008                  12.700200   \n",
       "7            5701                  12.869994   \n",
       "8            5438                  13.159744   \n",
       "9            5697                  13.293891   \n",
       "10           5702                  13.419419   \n",
       "11           5698                  13.787948   \n",
       "12           5457                  14.016974   \n",
       "13           5009                  14.111644   \n",
       "14           5954                  14.414075   \n",
       "15           5012                  14.748737   \n",
       "16           6254                  15.045927   \n",
       "17           5955                  15.094471   \n",
       "18           5013                  15.338724   \n",
       "19           5936                  15.391924   \n",
       "\n",
       "                                              name  \n",
       "0             Межфакультетский кубок МГУ. Отбор №4  \n",
       "1                                Borisov Brain Cup  \n",
       "2                              Открытый кубок УМЭД  \n",
       "3                   Школьный синхрон-lite. Сезон 3  \n",
       "4                              Малый кубок Физтеха  \n",
       "5          (а)Синхрон-lite. Лига старта. Эпизод IV  \n",
       "6                Школьный Синхрон-lite. Выпуск 2.3  \n",
       "7                Школьный Синхрон-lite. Выпуск 3.3  \n",
       "8                              Синхрон Лиги Разума  \n",
       "9                Школьный Синхрон-lite. Выпуск 3.1  \n",
       "10         (а)Синхрон-lite. Лига старта. Эпизод IX  \n",
       "11        (а)Синхрон-lite. Лига старта. Эпизод VII  \n",
       "12  Студенческий чемпионат Калининградской области  \n",
       "13        (а)Синхрон-lite. Лига старта. Эпизод III  \n",
       "14                          Школьная лига. II тур.  \n",
       "15               Школьный Синхрон-lite. Выпуск 2.5  \n",
       "16                                   Школьная лига  \n",
       "17                         Школьная лига. III тур.  \n",
       "18          (а)Синхрон-lite. Лига старта. Эпизод V  \n",
       "19                           Школьная лига. I тур.  "
      ]
     },
     "execution_count": 48,
     "metadata": {},
     "output_type": "execute_result"
    }
   ],
   "source": [
    "top_n = 15\n",
    "print(f\"Топ {top_n} самых простых турниров\")\n",
    "tournament_to_weight.tail(TOP_N).merge(\n",
    "    df_tournaments[[\"id\", \"name\"]].set_index(\"id\"),\n",
    "    left_on=\"tournament_id\", right_on=\"id\",\n",
    ")"
   ]
  }
 ],
 "metadata": {
  "kernelspec": {
   "display_name": "Python 3",
   "language": "python",
   "name": "python3"
  },
  "language_info": {
   "codemirror_mode": {
    "name": "ipython",
    "version": 3
   },
   "file_extension": ".py",
   "mimetype": "text/x-python",
   "name": "python",
   "nbconvert_exporter": "python",
   "pygments_lexer": "ipython3",
   "version": "3.7.9"
  }
 },
 "nbformat": 4,
 "nbformat_minor": 5
}
