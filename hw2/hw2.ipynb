{
 "cells": [
  {
   "cell_type": "raw",
   "id": "institutional-namibia",
   "metadata": {},
   "source": [
    "%%bash\n",
    "\n",
    "unzip chgk.zip"
   ]
  },
  {
   "cell_type": "code",
   "execution_count": 1,
   "id": "vocal-covering",
   "metadata": {},
   "outputs": [],
   "source": [
    "import pandas as pd\n",
    "import pickle\n",
    "import numpy as np"
   ]
  },
  {
   "cell_type": "code",
   "execution_count": 2,
   "id": "appropriate-estate",
   "metadata": {},
   "outputs": [],
   "source": [
    "import pickle\n",
    "\n",
    "def dump_pickle(file_path, obj):\n",
    "    with open(file_path, \"wb\") as dump_file:\n",
    "        pickle.dump(obj, dump_file)\n",
    "\n",
    "def load_pickle(file_path):\n",
    "    with open(file_path, 'rb') as load_file:\n",
    "        return pickle.load(load_file)"
   ]
  },
  {
   "cell_type": "markdown",
   "id": "athletic-ending",
   "metadata": {},
   "source": [
    "## 1 Анализ данных\n",
    "\n",
    "Раскроем данные так, чтобы они приняли формат player -> ответ на вопрос"
   ]
  },
  {
   "cell_type": "code",
   "execution_count": 3,
   "id": "contemporary-drain",
   "metadata": {},
   "outputs": [
    {
     "data": {
      "text/plain": [
       "(1109, 687, 422)"
      ]
     },
     "execution_count": 3,
     "metadata": {},
     "output_type": "execute_result"
    }
   ],
   "source": [
    "df_tournaments = pd.DataFrame(pd.read_pickle('tournaments.pkl')).transpose()\n",
    "#отфильтруем по дате\n",
    "tournaments_ids_all = set(df_tournaments[df_tournaments.dateStart >= '2019-01-01']['id'])\n",
    "tournaments_ids_test = set(df_tournaments[df_tournaments.dateStart >= '2020-01-01']['id'])\n",
    "tournaments_ids_train = tournaments_ids_all.difference(tournaments_ids_test)\n",
    "len(tournaments_ids_all), len(tournaments_ids_train), len(tournaments_ids_test)"
   ]
  },
  {
   "cell_type": "code",
   "execution_count": 4,
   "id": "offshore-seafood",
   "metadata": {},
   "outputs": [
    {
     "name": "stdout",
     "output_type": "stream",
     "text": [
      "full df:  5528\n",
      "filtered df:  671\n",
      "full df:  5528\n",
      "filtered df:  169\n"
     ]
    }
   ],
   "source": [
    "def filter_df(tournaments_ids):\n",
    "    df_results = pd.read_pickle('results.pkl')\n",
    "    print(\"full df: \", len(df_results))\n",
    "    results_all = {}\n",
    "    for key, value in df_results.items():\n",
    "        # игнорируем турниры до 2019 года, а также пустые записи\n",
    "        if key in tournaments_ids and len(value) > 0:\n",
    "            valid = True\n",
    "            # игнорируем турниры, где нет нужных нам валидных полей\n",
    "            for team_data in value:\n",
    "                if 'team' not in team_data or 'mask' not in team_data or 'teamMembers' not in team_data:\n",
    "                    valid = False\n",
    "                    continue\n",
    "                if team_data['mask'] is None or team_data['team'] is None or team_data['teamMembers'] is None:\n",
    "                    valid = False\n",
    "                    continue\n",
    "            if valid:\n",
    "                results_all[key] = value\n",
    "    print(\"filtered df: \", len(results_all))\n",
    "    return results_all\n",
    "\n",
    "df_train = filter_df(tournaments_ids_train)\n",
    "df_test = filter_df(tournaments_ids_test)\n",
    "dump_pickle('test.pkl', df_test)\n",
    "\n",
    "def unpivot_players(df):\n",
    "    df_results_cleaned = []\n",
    "    for key, value in df.items():\n",
    "        for team_data in value:\n",
    "            team = team_data['team']\n",
    "            mask = str(team_data['mask']).replace('X', '0').replace('?', '0')\n",
    "            players = team_data['teamMembers']\n",
    "            for player in players:\n",
    "                df_results_cleaned.append([key, team['id'], player['player']['id'], mask])\n",
    "    df = pd.DataFrame(df_results_cleaned)\n",
    "    df.columns = ['tournament_id', 'team_id', 'player_id', 'mask']\n",
    "    return df\n",
    "\n",
    "df_train = unpivot_players(df_train)\n",
    "\n",
    "def unpivot_questions(df):\n",
    "    df_results_cleaned = []\n",
    "    for _, row in df.iterrows():\n",
    "        tournament_id = row['tournament_id']\n",
    "        team_id = row['team_id']\n",
    "        player_id = row['player_id']\n",
    "        mask = row['mask']\n",
    "        for idx in range(len(mask)):\n",
    "            df_results_cleaned.append([tournament_id, team_id, player_id, idx, mask[idx]])\n",
    "    df = pd.DataFrame(df_results_cleaned)\n",
    "    df.columns = ['tournament_id', 'team_id', 'player_id', 'question_local_id', 'target']\n",
    "    return df\n",
    "\n",
    "df_train = unpivot_questions(df_train)\n",
    "compression_opts = dict(method='zip', archive_name='train.csv')\n",
    "df_train.to_csv('train.zip', index=False, compression=compression_opts)"
   ]
  },
  {
   "cell_type": "markdown",
   "id": "expanded-habitat",
   "metadata": {},
   "source": [
    "## 2 Baseline model\n",
    "\n",
    "Построим модель на one-hot векторах из игроков и турниров"
   ]
  },
  {
   "cell_type": "code",
   "execution_count": 5,
   "id": "designing-score",
   "metadata": {},
   "outputs": [],
   "source": [
    "df_train = pd.read_csv('train.zip', \n",
    "                       dtype={'tournament_id':np.int16, 'team_id':np.int32,\n",
    "                              'player_id':np.int32, 'question_local_id':np.int32, 'target':np.int8})"
   ]
  },
  {
   "cell_type": "code",
   "execution_count": 6,
   "id": "ignored-fairy",
   "metadata": {},
   "outputs": [
    {
     "data": {
      "text/html": [
       "<div>\n",
       "<style scoped>\n",
       "    .dataframe tbody tr th:only-of-type {\n",
       "        vertical-align: middle;\n",
       "    }\n",
       "\n",
       "    .dataframe tbody tr th {\n",
       "        vertical-align: top;\n",
       "    }\n",
       "\n",
       "    .dataframe thead th {\n",
       "        text-align: right;\n",
       "    }\n",
       "</style>\n",
       "<table border=\"1\" class=\"dataframe\">\n",
       "  <thead>\n",
       "    <tr style=\"text-align: right;\">\n",
       "      <th></th>\n",
       "      <th>tournament_id</th>\n",
       "      <th>team_id</th>\n",
       "      <th>player_id</th>\n",
       "      <th>question_local_id</th>\n",
       "      <th>target</th>\n",
       "    </tr>\n",
       "  </thead>\n",
       "  <tbody>\n",
       "    <tr>\n",
       "      <th>0</th>\n",
       "      <td>4772</td>\n",
       "      <td>45556</td>\n",
       "      <td>6212</td>\n",
       "      <td>0</td>\n",
       "      <td>1</td>\n",
       "    </tr>\n",
       "    <tr>\n",
       "      <th>1</th>\n",
       "      <td>4772</td>\n",
       "      <td>45556</td>\n",
       "      <td>6212</td>\n",
       "      <td>1</td>\n",
       "      <td>1</td>\n",
       "    </tr>\n",
       "    <tr>\n",
       "      <th>2</th>\n",
       "      <td>4772</td>\n",
       "      <td>45556</td>\n",
       "      <td>6212</td>\n",
       "      <td>2</td>\n",
       "      <td>1</td>\n",
       "    </tr>\n",
       "    <tr>\n",
       "      <th>3</th>\n",
       "      <td>4772</td>\n",
       "      <td>45556</td>\n",
       "      <td>6212</td>\n",
       "      <td>3</td>\n",
       "      <td>1</td>\n",
       "    </tr>\n",
       "    <tr>\n",
       "      <th>4</th>\n",
       "      <td>4772</td>\n",
       "      <td>45556</td>\n",
       "      <td>6212</td>\n",
       "      <td>4</td>\n",
       "      <td>1</td>\n",
       "    </tr>\n",
       "  </tbody>\n",
       "</table>\n",
       "</div>"
      ],
      "text/plain": [
       "   tournament_id  team_id  player_id  question_local_id  target\n",
       "0           4772    45556       6212                  0       1\n",
       "1           4772    45556       6212                  1       1\n",
       "2           4772    45556       6212                  2       1\n",
       "3           4772    45556       6212                  3       1\n",
       "4           4772    45556       6212                  4       1"
      ]
     },
     "execution_count": 6,
     "metadata": {},
     "output_type": "execute_result"
    }
   ],
   "source": [
    "df_train.head()"
   ]
  },
  {
   "cell_type": "code",
   "execution_count": 10,
   "id": "neither-border",
   "metadata": {},
   "outputs": [],
   "source": [
    "from sklearn.preprocessing import OneHotEncoder, Normalizer\n",
    "from sklearn.compose import ColumnTransformer\n",
    "from sklearn.pipeline import Pipeline\n",
    "from sklearn.linear_model import LogisticRegression, LinearRegression"
   ]
  },
  {
   "cell_type": "code",
   "execution_count": 11,
   "id": "transsexual-label",
   "metadata": {},
   "outputs": [],
   "source": [
    "def sigmoid(x):\n",
    "    ex = np.exp(x)\n",
    "    return ex / (1 + ex)"
   ]
  },
  {
   "cell_type": "code",
   "execution_count": 12,
   "id": "personal-yorkshire",
   "metadata": {},
   "outputs": [],
   "source": [
    "feature_generation = ColumnTransformer(\n",
    "    transformers=[\n",
    "        ('OneHot', OneHotEncoder(), ['player_id', 'question_local_id'])\n",
    "    ],\n",
    "    remainder='drop',\n",
    "    sparse_threshold=1\n",
    ")\n",
    "\n",
    "soft_pipe = Pipeline(\n",
    "    steps=[\n",
    "        ('feature_generation', feature_generation),\n",
    "        #('scaler', StandardScaler()),\n",
    "        #('classifier', LogisticRegression(solver='liblinear', max_iter=100))\n",
    "        ('classifier', LinearRegression())\n",
    "    ]\n",
    ")"
   ]
  },
  {
   "cell_type": "code",
   "execution_count": 13,
   "id": "confident-guest",
   "metadata": {},
   "outputs": [
    {
     "data": {
      "text/plain": [
       "(20968351, 5)"
      ]
     },
     "execution_count": 13,
     "metadata": {},
     "output_type": "execute_result"
    }
   ],
   "source": [
    "df_train.shape"
   ]
  },
  {
   "cell_type": "raw",
   "id": "complex-serve",
   "metadata": {},
   "source": [
    "%%time\n",
    "pipe.fit(df_train, df_train['target'])"
   ]
  },
  {
   "cell_type": "code",
   "execution_count": 93,
   "id": "atmospheric-correction",
   "metadata": {},
   "outputs": [
    {
     "data": {
      "text/plain": [
       "Pipeline(steps=[('feature_generation',\n",
       "                 ColumnTransformer(sparse_threshold=1,\n",
       "                                   transformers=[('OneHot', OneHotEncoder(),\n",
       "                                                  ['player_id',\n",
       "                                                   'question_local_id'])])),\n",
       "                ('classifier', LinearRegression())])"
      ]
     },
     "execution_count": 93,
     "metadata": {},
     "output_type": "execute_result"
    }
   ],
   "source": [
    "%%time\n",
    "# logistic regression on soft labels\n",
    "# https://stackoverflow.com/questions/42800769/scikit-learn-classification-on-soft-labels/60969923#60969923\n",
    "\n",
    "y = np.clip(df_train['target'], 1e-8, 1 - 1e-8)   # numerical stability\n",
    "inv_sig_y = np.log(y / (1 - y))  # transform to log-odds-ratio space\n",
    "\n",
    "soft_pipe.fit(df_train, inv_sig_y)"
   ]
  },
  {
   "cell_type": "markdown",
   "id": "square-acrylic",
   "metadata": {},
   "source": [
    "## 3 Качество рейтинг-системы"
   ]
  },
  {
   "cell_type": "code",
   "execution_count": 15,
   "id": "naval-syria",
   "metadata": {},
   "outputs": [],
   "source": [
    "import dill\n",
    "\n",
    "def dump_dill(file_path, obj):\n",
    "    with open(file_path, \"wb\") as dump_file:\n",
    "        dill.dump(obj, dump_file)\n",
    "        \n",
    "def load_dill(file_path):\n",
    "    with open(file_path, \"rb\") as dump_file:\n",
    "        return dill.load(dump_file)\n",
    "    \n",
    "dump_dill('logreg_model.dll', pipe)"
   ]
  },
  {
   "cell_type": "code",
   "execution_count": 16,
   "id": "egyptian-border",
   "metadata": {},
   "outputs": [],
   "source": [
    "soft_pipe = load_dill('logreg_model.dll')"
   ]
  },
  {
   "cell_type": "code",
   "execution_count": 22,
   "id": "compliant-slope",
   "metadata": {},
   "outputs": [],
   "source": [
    "# добудем веса из модели для каждого игрока\n",
    "player_to_weight = {int(name.split('_')[-1]): rank for name, rank in zip(\n",
    "    soft_pipe['feature_generation'].get_feature_names(),\n",
    "    soft_pipe['classifier'].coef_) if name.split('_')[2] == 'x0'}"
   ]
  },
  {
   "cell_type": "markdown",
   "id": "underlying-absorption",
   "metadata": {},
   "source": [
    "Посмотрим насколько совпадают топ 100 и наш рейтинг\n",
    "\n",
    "Официальный рейтинг: https://rating.chgk.info/players.php"
   ]
  },
  {
   "cell_type": "code",
   "execution_count": 23,
   "id": "federal-disposition",
   "metadata": {},
   "outputs": [
    {
     "data": {
      "text/plain": [
       "6"
      ]
     },
     "execution_count": 23,
     "metadata": {},
     "output_type": "execute_result"
    }
   ],
   "source": [
    "official_top_100_ids = pd.read_csv('player_off_top.csv')[:100]\n",
    "official_top_100_ids = set(official_top_100_ids[' ИД'])\n",
    "\n",
    "player_to_weight_sorted = sorted(player_to_weight.items(), key=lambda kv: kv[1], reverse=True)\n",
    "predicted_top_100_ids = set(k for k, v in player_to_weight_sorted[:100])\n",
    "\n",
    "len(official_top_100_ids.intersection(predicted_top_100_ids))"
   ]
  },
  {
   "cell_type": "code",
   "execution_count": 24,
   "id": "eleven-auckland",
   "metadata": {},
   "outputs": [],
   "source": [
    "from scipy import stats"
   ]
  },
  {
   "cell_type": "code",
   "execution_count": 25,
   "id": "surprising-clerk",
   "metadata": {},
   "outputs": [],
   "source": [
    "def get_positions_label(tournament):\n",
    "    return [team['position'] for team in tournament]\n",
    "\n",
    "def get_position_prediction(tournament):\n",
    "    \"\"\"\n",
    "    ранжируем команды по весу = (среднее от весов участников),\n",
    "    есть игрока не было в train -- берем средний вес игрока в трейне\n",
    "    \"\"\"\n",
    "    avg_weight = np.mean(list(player_to_weight.values()))\n",
    "    team_rating = []\n",
    "    for idx, team in enumerate(tournament):\n",
    "        weight = 0\n",
    "        cnt = 0\n",
    "        for player_info in team['teamMembers']:\n",
    "            p_id = player_info['player']['id']\n",
    "            try:\n",
    "                weight += player_to_weight[p_id]\n",
    "            except:\n",
    "                weight += avg_weight\n",
    "            cnt += 1\n",
    "        try:\n",
    "            mean = weight/cnt\n",
    "        except:\n",
    "            mean = 0\n",
    "        team_rating.append((idx + 1, mean))\n",
    "    team_rating = sorted(team_rating, key=lambda kv: kv[1], reverse=True)\n",
    "    return [pos for pos, weight in team_rating]"
   ]
  },
  {
   "cell_type": "code",
   "execution_count": 26,
   "id": "illegal-booth",
   "metadata": {},
   "outputs": [
    {
     "name": "stdout",
     "output_type": "stream",
     "text": [
      "Avg Spearman corr value for df = 0.7044886291365373\n",
      "Avg Kendall  corr value for df = 0.5481479079052269\n"
     ]
    }
   ],
   "source": [
    "def get_score(df, corr):\n",
    "    x = [corr(get_positions_label(t), get_position_prediction(t)).correlation for t in df.values()]\n",
    "    return np.nanmean(x)\n",
    "\n",
    "for corr in [('Spearman', stats.spearmanr), ('Kendall ', stats.kendalltau)]:\n",
    "    print(f'Avg {corr[0]} corr value for df = {get_score(df_test, corr[1])}')"
   ]
  },
  {
   "cell_type": "markdown",
   "id": "innocent-python",
   "metadata": {},
   "source": [
    "## 4 EM схема"
   ]
  },
  {
   "cell_type": "markdown",
   "id": "assumed-certification",
   "metadata": {},
   "source": [
    "Скрытыми переменными $z_{i,q}$ являются ответил ли $i$-ый игрок в команде на вопрос $q$. Пусть $y_{tq}$ - ответ команды $T$ на вопрос $q$. Если команда не ответила на вопрос, то ни один игрок команды не ответил на вопрос, если ответила - то значит хотя бы один игрок ответил.\n",
    "\n",
    "Величины $z_{i,q}$ будем моделировать логистическими регрессиями от *player_id* и *question_local_id*.\n",
    "\n",
    "$$p\\left(z_{i,q} \\vert \\overrightarrow{x_i}\\right) \\sim \\sigma\\left(\\overrightarrow{x_i}\\right)$$\n",
    "\n",
    "Тогда *Expectation* шаг будет рассчитываться по формуле\n",
    "\n",
    "$$ \n",
    "\\mathbb{E} \\left[ z^{(m+1)}_{i,q} \\right] = \n",
    "\\begin{cases}\n",
    "0, \\text{если } y_{tq} = 0,\\\\\n",
    "p\\left( z^{(m)}_{i,q} = 1 \\vert \\exists j \\in t : z^{(m)}_{j,q} = 1\\right), \\text{ если } y_{tq} = 1. \n",
    "\\end{cases} \n",
    "$$\n",
    "\n",
    "Где\n",
    "$$\n",
    "p\\left( z^{(m)}_{i,q} = 1 \\vert \\exists j \\in t : z^{(m)}_{j,q} = 1\\right) = \\frac{\\sigma \\left(\\overrightarrow{x^{(m)}_i}\\right)}{1-\\prod\\limits_{k \\in T} \\left(1 - \\sigma\\left(\\overrightarrow{x^{(m)}_k}\\right)\\right)}\n",
    "$$\n",
    "\n",
    "На *Maximization* шаге будем бучать модель\n",
    "\n",
    "$$\\mathbb{E} \\left[ z^{(m+1)}_{i,q} \\right] \\sim \\sigma\\left(\\overrightarrow{x^{(m+1)}_i}\\right)$$\n",
    "\n",
    "В качестве начальных параметров возьмем параметры модели из бейзлайна"
   ]
  },
  {
   "cell_type": "code",
   "execution_count": 83,
   "id": "creative-waste",
   "metadata": {},
   "outputs": [],
   "source": [
    "from functools import reduce\n",
    "\n",
    "def pred_by_team(arr):\n",
    "    arr = 1-arr\n",
    "    return 1 - reduce(lambda x, y: x*y, arr)"
   ]
  },
  {
   "cell_type": "code",
   "execution_count": 84,
   "id": "strange-handling",
   "metadata": {
    "scrolled": false
   },
   "outputs": [
    {
     "name": "stdout",
     "output_type": "stream",
     "text": [
      "Iteration number: 0\n",
      "Avg Spearman corr value for df = 0.6964100942248623\n",
      "Avg Kendall  corr value for df = 0.5424484626801616\n",
      "Iteration number: 1\n",
      "Avg Spearman corr value for df = 0.6902681536903513\n",
      "Avg Kendall  corr value for df = 0.5326779106657819\n",
      "Iteration number: 2\n",
      "Avg Spearman corr value for df = 0.6906155050046141\n",
      "Avg Kendall  corr value for df = 0.5348640796597474\n",
      "Iteration number: 3\n",
      "Avg Spearman corr value for df = 0.6873074547250665\n",
      "Avg Kendall  corr value for df = 0.5308639726982605\n",
      "Iteration number: 4\n",
      "Avg Spearman corr value for df = 0.6886751033625452\n",
      "Avg Kendall  corr value for df = 0.5331223097260975\n"
     ]
    }
   ],
   "source": [
    "df_train['new_target'] = df_train['target']\n",
    "number_iter = 5\n",
    "\n",
    "for i in range(number_iter):\n",
    "    print(f\"Iteration number: {i}\")\n",
    "    #if i == 0:\n",
    "    #    df_train['pred'] = pipe.predict_proba(df_train)[:, 1]\n",
    "    #if i > 0:\n",
    "    df_train['pred'] = sigmoid(soft_pipe.predict(df_train))\n",
    "        \n",
    "    pred_by_group = (df_train[df_train.target == 1]\n",
    "             .groupby(['tournament_id', 'team_id', 'question_local_id'], as_index=False)['pred']\n",
    "             .apply(pred_by_team)\n",
    "             .rename(columns={'pred':'pred_by_team'}))\n",
    "    df_train = pd.merge(df_train, pred_by_group, how='left', on=['tournament_id', 'team_id', 'question_local_id'])\n",
    "    df_train['new_target'] = df_train['pred']/df_train['pred_by_team']\n",
    "    df_train.loc[df_train['target'] == 0, 'new_target'] = 0\n",
    "\n",
    "    df_train = df_train.drop(columns=['pred', 'pred_by_team'])\n",
    "\n",
    "    y = np.clip(df_train['new_target'], 1e-8, 1 - 1e-8)   # numerical stability\n",
    "    inv_sig_y = np.log(y / (1 - y))  # transform to log-odds-ratio space\n",
    "\n",
    "    soft_pipe.fit(df_train, inv_sig_y)\n",
    "    \n",
    "    # добудем веса из модели для каждого игрока\n",
    "    player_to_weight = {int(name.split('_')[-1]): rank for name, rank in zip(\n",
    "        soft_pipe['feature_generation'].get_feature_names(),\n",
    "        soft_pipe['classifier'].coef_) if name.split('_')[2] == 'x0'}\n",
    "    \n",
    "    for corr in [('Spearman', stats.spearmanr), ('Kendall ', stats.kendalltau)]:\n",
    "        print(f'Avg {corr[0]} corr value for df = {get_score(df_test, corr[1])}')"
   ]
  }
 ],
 "metadata": {
  "kernelspec": {
   "display_name": "Python 3",
   "language": "python",
   "name": "python3"
  },
  "language_info": {
   "codemirror_mode": {
    "name": "ipython",
    "version": 3
   },
   "file_extension": ".py",
   "mimetype": "text/x-python",
   "name": "python",
   "nbconvert_exporter": "python",
   "pygments_lexer": "ipython3",
   "version": "3.7.9"
  }
 },
 "nbformat": 4,
 "nbformat_minor": 5
}
