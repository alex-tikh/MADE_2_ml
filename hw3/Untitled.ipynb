{
 "cells": [
  {
   "cell_type": "code",
   "execution_count": 51,
   "id": "bacterial-difference",
   "metadata": {},
   "outputs": [],
   "source": [
    "from collections import Counter\n",
    "import string\n",
    "import re\n",
    "import numpy as np\n",
    "from nltk import ngrams\n",
    "from collections import OrderedDict\n",
    "\n",
    "np.random.seed(42)"
   ]
  },
  {
   "cell_type": "code",
   "execution_count": 30,
   "id": "alive-commonwealth",
   "metadata": {},
   "outputs": [],
   "source": [
    "def clean_text(\n",
    "    text, \n",
    "    alphabet=\"абвгдежзийклмнопрстуфхцчшщъыьэюя \"\n",
    "):\n",
    "    # lowercase\n",
    "    text = text.lower()\n",
    "    # only chars in alphabet\n",
    "    text = \"\".join([c for c in text if c in alphabet])\n",
    "    # remove double whitespaces\n",
    "    text = ' '.join(text.split())\n",
    "    return text"
   ]
  },
  {
   "cell_type": "code",
   "execution_count": 31,
   "id": "adult-given",
   "metadata": {},
   "outputs": [],
   "source": [
    "def ngram_freq_dict(text, n_gram):\n",
    "    if n_gram > 1:\n",
    "        text = [\n",
    "            \"\".join(ngram) for ngram in ngrams(text, n=n_gram)\n",
    "        ]\n",
    "    freqs = {\n",
    "        k: v / len(text)\n",
    "        for k, v in sorted(Counter(text).items(), key=lambda item: item[1], reverse=True)\n",
    "        if v > 0\n",
    "    }\n",
    "    return freqs"
   ]
  },
  {
   "cell_type": "code",
   "execution_count": 32,
   "id": "beginning-webster",
   "metadata": {},
   "outputs": [],
   "source": [
    "with open('data/AnnaKarenina.txt', 'r') as f:\n",
    "    corpus_text = f.read()\n",
    "\n",
    "with open('data/WarAndPeace.txt', 'r') as f:\n",
    "    corpus_text += f.read()"
   ]
  },
  {
   "cell_type": "code",
   "execution_count": 33,
   "id": "intellectual-drill",
   "metadata": {},
   "outputs": [],
   "source": [
    "corpus_text = clean_text(corpus_text)"
   ]
  },
  {
   "cell_type": "code",
   "execution_count": 95,
   "id": "governing-smile",
   "metadata": {
    "scrolled": false
   },
   "outputs": [],
   "source": [
    "corpus_freqs = ngram_freq_dict(corpus_text, 2)"
   ]
  },
  {
   "cell_type": "code",
   "execution_count": 52,
   "id": "invalid-microwave",
   "metadata": {},
   "outputs": [],
   "source": [
    "def create_mapping(freqs):\n",
    "    original_ngrams = list(freqs.keys())\n",
    "    permutated_ngrams = np.random.permutation(original_ngrams)\n",
    "    mapping = dict(zip(original_ngrams, permutated_ngrams))\n",
    "\n",
    "    return mapping"
   ]
  },
  {
   "cell_type": "code",
   "execution_count": 69,
   "id": "breathing-bible",
   "metadata": {},
   "outputs": [],
   "source": [
    "permutation_mapping = create_mapping(corpus_freqs)"
   ]
  },
  {
   "cell_type": "code",
   "execution_count": 47,
   "id": "tracked-migration",
   "metadata": {},
   "outputs": [],
   "source": [
    "text = 'ах постой ах сколько мыслей сколько надо спросить послушай ты ведь не можешь представить себе что ты сделал для меня тем что сказал я так счастлив что даже гадок стал я все забыл я нынче узнал что брат николай знаешь он тут я и про него забыл мне кажется что и он счастлив это вроде сумасшествия но одно ужасно вот ты женился ты знаешь это чувство ужасно то что мы старые уже с прошедшим не любви а грехов вдруг сближаемся с существом чистым невинным это отвратительно и поэтому нельзя не чувствовать себя недостойным'"
   ]
  },
  {
   "cell_type": "code",
   "execution_count": 70,
   "id": "mexican-nursing",
   "metadata": {},
   "outputs": [],
   "source": [
    "def apply_mapping(text, mapping):\n",
    "    return \"\".join([mapping.get(char, '*') for char in text])"
   ]
  },
  {
   "cell_type": "code",
   "execution_count": 87,
   "id": "british-burning",
   "metadata": {},
   "outputs": [],
   "source": [
    "encoded_text = apply_mapping(text, permutation_mapping)"
   ]
  },
  {
   "cell_type": "code",
   "execution_count": 88,
   "id": "crude-conjunction",
   "metadata": {},
   "outputs": [
    {
     "data": {
      "text/plain": [
       "'жкрйсдясыржкрдвсшьвсрмлдш ырдвсшьвсрижосрдйщсдзяьрйсдшхчжырялрэ оьри рмсе чьрйщ одяжэзяьрд т рнясрялрдо шжшрошарм иаря мрнясрдвжфжшраряжврднждяшзэрнясроже рбжосврдяжшрарэд рфжтлшрарилин рхфижшрнясртщжяризвсшжырфиж чьрсиряхярарзрйщсри бсрфжтлшрми рвже ядарнясрзрсирднждяшзэрцясрэщсо рдхмждч дяэзарисрсоисрхеждисрэсярялре изшдарялрфиж чьрцясрнхэдяэсрхеждисрясрнясрмлрдяжщл рхе рдрйщсч очзмри ршгтэзржрбщ ксэрэощхбрдтшзеж мдардрдхп дяэсмрнздялмри эзиилмрцясрсяэщжязя шьисрзрйсцясмхри шьфари рнхэдяэсэжяьрд тари осдясыилм'"
      ]
     },
     "execution_count": 88,
     "metadata": {},
     "output_type": "execute_result"
    }
   ],
   "source": [
    "encoded_text"
   ]
  },
  {
   "cell_type": "code",
   "execution_count": 94,
   "id": "continued-prairie",
   "metadata": {},
   "outputs": [],
   "source": [
    "encoded_text_freqs = ngram_freq_dict(encoded_text, 2)"
   ]
  },
  {
   "cell_type": "code",
   "execution_count": 90,
   "id": "purple-nicholas",
   "metadata": {},
   "outputs": [],
   "source": [
    "def create_decode_mapping(corpus_freqs, encoded_text_freqs):\n",
    "    return dict(zip(encoded_text_freqs.keys(), corpus_freqs.keys()))"
   ]
  },
  {
   "cell_type": "code",
   "execution_count": 91,
   "id": "steady-cotton",
   "metadata": {},
   "outputs": [],
   "source": [
    "decode_mapping = create_decode_mapping(corpus_freqs, encoded_text_freqs)"
   ]
  },
  {
   "cell_type": "code",
   "execution_count": 92,
   "id": "speaking-favor",
   "metadata": {},
   "outputs": [
    {
     "data": {
      "text/plain": [
       "'ию боаеой ию агосяго ркаснй агосяго тидо абьоавея боасмзий ек лндя тн роынзя бьндаеилвея анчн уео ек аднсис дсп рнтп енр уео агижис п еиг ауиаесвл уео диын шидог аеис п лан жичкс п тктун мжтис уео чьие твгосий жтинзя от еме п в бьо тншо жичкс ртн гиынеап уео в от ауиаесвл хео льодн амриазнаелвп то одто мыиато лое ек ынтвсап ек жтинзя хео умлаело мыиато ео уео рк аеиькн мын а бьозндзвр тн сэчлв и шьнюол лдьмш ачсвыинрап а амцнаелор уваекр тнлвтткр хео оельиевенсято в бохеорм тнсяжп тн умлаелолиея анчп тндоаеойткр'"
      ]
     },
     "execution_count": 92,
     "metadata": {},
     "output_type": "execute_result"
    }
   ],
   "source": [
    "apply_mapping(encoded_text, decode_mapping)"
   ]
  },
  {
   "cell_type": "code",
   "execution_count": null,
   "id": "northern-manner",
   "metadata": {},
   "outputs": [],
   "source": []
  }
 ],
 "metadata": {
  "kernelspec": {
   "display_name": "Python 3",
   "language": "python",
   "name": "python3"
  },
  "language_info": {
   "codemirror_mode": {
    "name": "ipython",
    "version": 3
   },
   "file_extension": ".py",
   "mimetype": "text/x-python",
   "name": "python",
   "nbconvert_exporter": "python",
   "pygments_lexer": "ipython3",
   "version": "3.7.9"
  }
 },
 "nbformat": 4,
 "nbformat_minor": 5
}
